{
 "cells": [
  {
   "cell_type": "markdown",
   "metadata": {},
   "source": [
    "# Un peu d'Exploratory Data Analysis avant toutes choses"
   ]
  },
  {
   "cell_type": "markdown",
   "metadata": {},
   "source": [
    "Ce notebook vise à explorer rapidement la base de données pour avoir une idée de se composition, la répartition et éventuels déséquilibres entre les classes, les caractéristiques des textes à analyser. Cela est éventuellement l'occasion de détecter des erreurs de textes (encodage erroné au moment d'enregistrer/lire les demandes)"
   ]
  },
  {
   "cell_type": "markdown",
   "metadata": {},
   "source": [
    "# 1. Packages usuels et importation de la base train"
   ]
  },
  {
   "cell_type": "code",
   "execution_count": 1,
   "metadata": {},
   "outputs": [],
   "source": [
    "# Pour faciliter la mise à jour des fonctions écrites dans func_custom sans avoir à redémarrer le kernel\n",
    "%load_ext autoreload\n",
    "%autoreload 2"
   ]
  },
  {
   "cell_type": "code",
   "execution_count": 2,
   "metadata": {},
   "outputs": [],
   "source": [
    "# Packages classiques\n",
    "import pandas as pd\n",
    "\n",
    "# Custom package\n",
    "import func_custom as fc\n",
    "\n",
    "# NLP\n",
    "from wordcloud import WordCloud\n",
    "from nltk.corpus import stopwords\n",
    "\n",
    "# Dataviz\n",
    "import seaborn as sns\n",
    "import matplotlib.pyplot as plt"
   ]
  },
  {
   "cell_type": "markdown",
   "metadata": {},
   "source": [
    "La variable `Unnamed: 0` semble juste être un indice de ligne, on peut pour le moment ne pas le garder pour l'analyse"
   ]
  },
  {
   "cell_type": "code",
   "execution_count": 3,
   "metadata": {},
   "outputs": [],
   "source": [
    "# with open(\"data/data_train.xlsx\", encoding = \"utf-8\") as f:\n",
    "#     df_train = pd.read_excel(f, usecols = [\"label\", \"message\"])"
   ]
  },
  {
   "cell_type": "code",
   "execution_count": 4,
   "metadata": {},
   "outputs": [],
   "source": [
    "df_train = pd.read_excel(\"data/data_train.xlsx\",\n",
    "                         usecols = [\"label\", \"message\"])"
   ]
  },
  {
   "cell_type": "markdown",
   "metadata": {},
   "source": [
    "# 2. Preprocessing"
   ]
  },
  {
   "cell_type": "code",
   "execution_count": 5,
   "metadata": {},
   "outputs": [
    {
     "name": "stdout",
     "output_type": "stream",
     "text": [
      "bonjour j'ai changé d'employeur depuis le 0000er decembre0000. ma periode d'essai a été rompue par mon employeur, je finis donc le 0000/0000/0000 et serai au chomage à partir du 0000er mars 0000 comment ca va se passer pour les impots ,c'est moi qui payait pour notre couple ? reponse urgente merci XXXXX XXXXX mail XX@XX 0000\n"
     ]
    }
   ],
   "source": [
    "# Générateur aléatoire de messages pour première inspection visuelle\n",
    "message_test = df_train.sample(1)[\"message\"].values[0]\n",
    "message_test = df_train.iloc[7][\"message\"]\n",
    "print(message_test)"
   ]
  },
  {
   "cell_type": "code",
   "execution_count": 6,
   "metadata": {},
   "outputs": [],
   "source": [
    "message_processed = fc.preprocess_text(message_test)"
   ]
  },
  {
   "cell_type": "code",
   "execution_count": 7,
   "metadata": {},
   "outputs": [
    {
     "name": "stdout",
     "output_type": "stream",
     "text": [
      "bonjour j'ai changé d'employeur depuis le 0000er decembre0000. ma periode d'essai a été rompue par mon employeur, je finis donc le 0000/0000/0000 et serai au chomage à partir du 0000er mars 0000 comment ca va se passer pour les impots ,c'est moi qui payait pour notre couple ? reponse urgente merci XXXXX XXXXX mail XX@XX 0000\n",
      "bonjour changé employeur depuis er decembr period essai été rompu employeur fin donc chomag à part er mar comment ca va pass impot pai coupl repons urgent merc mail\n"
     ]
    }
   ],
   "source": [
    "print(message_test)\n",
    "print(message_processed)"
   ]
  },
  {
   "cell_type": "code",
   "execution_count": 8,
   "metadata": {},
   "outputs": [],
   "source": [
    "df_train[\"message_clean\"] = df_train[\"message\"].apply(lambda x : fc.preprocess_text(x))"
   ]
  },
  {
   "cell_type": "code",
   "execution_count": 9,
   "metadata": {},
   "outputs": [
    {
     "data": {
      "text/plain": [
       "5      bonjour suit dernier demand repons si percev p...\n",
       "7      bonjour changé employeur depuis er decembr pe...\n",
       "8      madam monsieur bonjour xxxxx́ san enfant à ch...\n",
       "10     bonjour taux prélèv jour calculé revenus pr...\n",
       "12     ten à signal depuis quelqu revenus encor bais...\n",
       "                             ...                        \n",
       "686    bonjour réuss à chang taux prélèv à sourc...\n",
       "688    bonjour xxxxx́e dernièr travaill à temp part...\n",
       "689    bonsoir actualis prélèv sourc car etais impo...\n",
       "693    bonjour à jour déclaré comm divorcé suit a...\n",
       "697    bonjour madam monsieur signal chang situat fam...\n",
       "Name: message_clean, Length: 302, dtype: object"
      ]
     },
     "execution_count": 9,
     "metadata": {},
     "output_type": "execute_result"
    }
   ],
   "source": [
    "df_train[df_train[\"label\"] == \"1\"][\"message_clean\"]"
   ]
  },
  {
   "cell_type": "code",
   "execution_count": 11,
   "metadata": {},
   "outputs": [],
   "source": [
    "df_train.to_csv(\"data/data_clean.csv\", \n",
    "                sep = \";\",\n",
    "                index = False)"
   ]
  }
 ],
 "metadata": {
  "kernelspec": {
   "display_name": "Python 3",
   "language": "python",
   "name": "python3"
  },
  "language_info": {
   "codemirror_mode": {
    "name": "ipython",
    "version": 3
   },
   "file_extension": ".py",
   "mimetype": "text/x-python",
   "name": "python",
   "nbconvert_exporter": "python",
   "pygments_lexer": "ipython3",
   "version": "3.9.12"
  }
 },
 "nbformat": 4,
 "nbformat_minor": 2
}
