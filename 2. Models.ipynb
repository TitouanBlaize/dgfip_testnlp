{
 "cells": [
  {
   "cell_type": "markdown",
   "metadata": {},
   "source": [
    "# **Modèles pour classification textuelles**"
   ]
  },
  {
   "cell_type": "markdown",
   "metadata": {},
   "source": [
    "Une fois les données nettoyées dans le notebook `1. Preprocessing` précédent, nous allons maintenant utiliser plusieurs modèles pour tenter de modéliser"
   ]
  },
  {
   "cell_type": "markdown",
   "metadata": {},
   "source": [
    "# 1. Avant propos et méthodologie"
   ]
  },
  {
   "cell_type": "markdown",
   "metadata": {},
   "source": [
    "## 1.1 Premiers éléments"
   ]
  },
  {
   "cell_type": "markdown",
   "metadata": {},
   "source": [
    "Nous allons faire de la classification textuelle avec _overlapping_ de labels.\n",
    "Les labels sont équilibrés, à priori pas besoin d'utiliser les méthodes spécifiques au _imbalanced dataset_"
   ]
  },
  {
   "cell_type": "markdown",
   "metadata": {},
   "source": [
    "## 1.2 Modèles utilisés"
   ]
  },
  {
   "cell_type": "markdown",
   "metadata": {},
   "source": [
    "Les modèles utilisés, classés par \"ordre de complexité\" sont les suivants :\n",
    "- Bag of Words\n",
    "- TF-IDF\n",
    "- Embedding statique _a la_ word2vec\n",
    "- Combinaison des deux méthodes pour faire du doc/sent2vec où les pondérations par mot sont données par le TF-IDF\n",
    "- Embedding \"dynamique\" en ayant recours à un transformers, ici BERT"
   ]
  },
  {
   "cell_type": "markdown",
   "metadata": {},
   "source": [
    "# 2. Packages usuels et importation"
   ]
  },
  {
   "cell_type": "code",
   "execution_count": 1,
   "metadata": {},
   "outputs": [],
   "source": [
    "# Pour faciliter la mise à jour des fonctions écrites dans func_custom sans avoir à redémarrer le kernel\n",
    "%load_ext autoreload\n",
    "%autoreload 2"
   ]
  },
  {
   "cell_type": "code",
   "execution_count": 10,
   "metadata": {},
   "outputs": [],
   "source": [
    "# Packages classiques\n",
    "import pandas as pd\n",
    "\n",
    "# Custom package\n",
    "import func_custom as fc\n",
    "\n",
    "# Machine Learning\n",
    "from sklearn.feature_extraction.text import TfidfVectorizer\n",
    "from sklearn.feature_extraction.text import TfidfVectorizer\n",
    "from sklearn.naive_bayes import MultinomialNB\n",
    "from sklearn.model_selection import train_test_split\n",
    "from sklearn.metrics import accuracy_score, classification_report"
   ]
  },
  {
   "cell_type": "code",
   "execution_count": 11,
   "metadata": {},
   "outputs": [],
   "source": [
    "df_train = pd.read_csv(\"data/data_clean.csv\",\n",
    "                       sep = \";\")"
   ]
  },
  {
   "cell_type": "code",
   "execution_count": 29,
   "metadata": {},
   "outputs": [],
   "source": [
    "df_train[\"label_1\"] = df_train[\"label\"].apply(lambda x : \"1\" in x)\n",
    "df_train[\"label_8\"] = df_train[\"label\"].apply(lambda x : \"8\" in x)"
   ]
  },
  {
   "cell_type": "code",
   "execution_count": 73,
   "metadata": {},
   "outputs": [],
   "source": [
    "# Transformer en une liste\n",
    "documents = df_train[\"message_clean\"].tolist()\n",
    "labels = df_train[\"label_1\"].tolist()"
   ]
  },
  {
   "cell_type": "markdown",
   "metadata": {},
   "source": [
    "# 3. TF_IDF"
   ]
  },
  {
   "cell_type": "code",
   "execution_count": null,
   "metadata": {},
   "outputs": [],
   "source": [
    "# Initialize the TF-IDF Vectorizer\n",
    "vectorizer = TfidfVectorizer()\n",
    "\n",
    "# Fit and transform the documents\n",
    "X = vectorizer.fit_transform(documents)"
   ]
  },
  {
   "cell_type": "code",
   "execution_count": 47,
   "metadata": {},
   "outputs": [],
   "source": [
    "# Step 3: Train a classifier\n",
    "X_train, X_test, y_train, y_test = train_test_split(X, labels, test_size=0.3, random_state=42)\n",
    "classifier = MultinomialNB()\n",
    "classifier.fit(X_train, y_train)\n",
    "\n",
    "# Step 4: Evaluate your model\n",
    "y_pred = classifier.predict(X_test)\n",
    "accuracy = accuracy_score(y_test, y_pred)\n",
    "report = classification_report(y_test, y_pred)"
   ]
  },
  {
   "cell_type": "code",
   "execution_count": 48,
   "metadata": {},
   "outputs": [
    {
     "name": "stdout",
     "output_type": "stream",
     "text": [
      "              precision    recall  f1-score   support\n",
      "\n",
      "       False       0.95      0.40      0.56        98\n",
      "        True       0.65      0.98      0.78       112\n",
      "\n",
      "    accuracy                           0.71       210\n",
      "   macro avg       0.80      0.69      0.67       210\n",
      "weighted avg       0.79      0.71      0.68       210\n",
      "\n"
     ]
    }
   ],
   "source": [
    "print(report)"
   ]
  },
  {
   "cell_type": "markdown",
   "metadata": {},
   "source": [
    "# 4. XGBoost"
   ]
  },
  {
   "cell_type": "code",
   "execution_count": 51,
   "metadata": {},
   "outputs": [],
   "source": [
    "import xgboost as xgb\n",
    "from sklearn.linear_model import Lasso"
   ]
  },
  {
   "cell_type": "code",
   "execution_count": 68,
   "metadata": {},
   "outputs": [],
   "source": [
    "# Step 3: Train a classifier\n",
    "X_train, X_test, y_train, y_test = train_test_split(X, labels, test_size=0.3)\n",
    "classifier = MultinomialNB()\n",
    "classifier = xgb.XGBClassifier()\n",
    "classifier.fit(X_train, y_train)\n",
    "\n",
    "# Step 4: Evaluate your model\n",
    "y_pred = classifier.predict(X_test)\n",
    "accuracy = accuracy_score(y_test, y_pred)\n",
    "report = classification_report(y_test, y_pred)"
   ]
  },
  {
   "cell_type": "code",
   "execution_count": 69,
   "metadata": {},
   "outputs": [
    {
     "name": "stdout",
     "output_type": "stream",
     "text": [
      "              precision    recall  f1-score   support\n",
      "\n",
      "       False       0.77      0.73      0.75        98\n",
      "        True       0.78      0.81      0.79       112\n",
      "\n",
      "    accuracy                           0.78       210\n",
      "   macro avg       0.78      0.77      0.77       210\n",
      "weighted avg       0.78      0.78      0.78       210\n",
      "\n"
     ]
    }
   ],
   "source": [
    "print(report)"
   ]
  },
  {
   "cell_type": "code",
   "execution_count": 70,
   "metadata": {},
   "outputs": [
    {
     "data": {
      "image/png": "[encoded data removed]",
      "text/plain": [
       "<Figure size 640x480 with 1 Axes>"
      ]
     },
     "metadata": {},
     "output_type": "display_data"
    }
   ],
   "source": [
    "_ = xgb.plot_importance(classifier, \n",
    "                        importance_type = \"gain\",\n",
    "                        max_num_features = 25,\n",
    "                        show_values = False)"
   ]
  },
  {
   "cell_type": "markdown",
   "metadata": {},
   "source": [
    "# 4. Word2vec"
   ]
  },
  {
   "cell_type": "code",
   "execution_count": 74,
   "metadata": {},
   "outputs": [],
   "source": [
    "from gensim.models import Word2Vec\n",
    "import numpy as np\n",
    "from sklearn.model_selection import train_test_split\n",
    "from sklearn.linear_model import LogisticRegression\n",
    "from sklearn.metrics import accuracy_score\n",
    "\n",
    "word2vec_model = Word2Vec(documents, vector_size=100, window=5, min_count=1, workers=4)\n",
    "\n",
    "def get_document_vector(doc, model):\n",
    "    valid_words = [word for word in doc if word in model.wv.key_to_index]\n",
    "    if not valid_words:\n",
    "        return np.zeros(model.vector_size)\n",
    "    return np.mean([model.wv[word] for word in valid_words], axis=0)"
   ]
  },
  {
   "cell_type": "code",
   "execution_count": 75,
   "metadata": {},
   "outputs": [
    {
     "data": {
      "text/html": [
       "<div>\n",
       "<style scoped>\n",
       "    .dataframe tbody tr th:only-of-type {\n",
       "        vertical-align: middle;\n",
       "    }\n",
       "\n",
       "    .dataframe tbody tr th {\n",
       "        vertical-align: top;\n",
       "    }\n",
       "\n",
       "    .dataframe thead th {\n",
       "        text-align: right;\n",
       "    }\n",
       "</style>\n",
       "<table border=\"1\" class=\"dataframe\">\n",
       "  <thead>\n",
       "    <tr style=\"text-align: right;\">\n",
       "      <th></th>\n",
       "      <th>label</th>\n",
       "      <th>message</th>\n",
       "      <th>message_clean</th>\n",
       "      <th>label_1</th>\n",
       "      <th>label_8</th>\n",
       "    </tr>\n",
       "  </thead>\n",
       "  <tbody>\n",
       "    <tr>\n",
       "      <th>0</th>\n",
       "      <td>8</td>\n",
       "      <td>Madame,Monsieur, je me permet de vous envoyer ...</td>\n",
       "      <td>madam monsieur permet envoi courriel car vien ...</td>\n",
       "      <td>False</td>\n",
       "      <td>True</td>\n",
       "    </tr>\n",
       "    <tr>\n",
       "      <th>1</th>\n",
       "      <td>8</td>\n",
       "      <td>je désire connaitre quel est le montant de mo...</td>\n",
       "      <td>désir connaitr quel mont impot revenu concern...</td>\n",
       "      <td>False</td>\n",
       "      <td>True</td>\n",
       "    </tr>\n",
       "    <tr>\n",
       "      <th>2</th>\n",
       "      <td>8</td>\n",
       "      <td>Bonjour, Je fais suite du dernier message envo...</td>\n",
       "      <td>bonjour fais suit derni messag envoyé concern...</td>\n",
       "      <td>False</td>\n",
       "      <td>True</td>\n",
       "    </tr>\n",
       "    <tr>\n",
       "      <th>3</th>\n",
       "      <td>8</td>\n",
       "      <td>Bonjour, Je me permets de vous contacter afin ...</td>\n",
       "      <td>bonjour permet contact afin obten répons déc...</td>\n",
       "      <td>False</td>\n",
       "      <td>True</td>\n",
       "    </tr>\n",
       "    <tr>\n",
       "      <th>4</th>\n",
       "      <td>8</td>\n",
       "      <td>Madame, Monsieur, Après avoir déclaré nos r...</td>\n",
       "      <td>madam monsieur aprè avoir déclaré revenus m...</td>\n",
       "      <td>False</td>\n",
       "      <td>True</td>\n",
       "    </tr>\n",
       "    <tr>\n",
       "      <th>...</th>\n",
       "      <td>...</td>\n",
       "      <td>...</td>\n",
       "      <td>...</td>\n",
       "      <td>...</td>\n",
       "      <td>...</td>\n",
       "    </tr>\n",
       "    <tr>\n",
       "      <th>695</th>\n",
       "      <td>8</td>\n",
       "      <td>Bonjour, Depuis que j'ai déclaré mon PACS av...</td>\n",
       "      <td>bonjour depuis déclaré pac mr retrait baisse...</td>\n",
       "      <td>False</td>\n",
       "      <td>True</td>\n",
       "    </tr>\n",
       "    <tr>\n",
       "      <th>696</th>\n",
       "      <td>8</td>\n",
       "      <td>Bonjour, Je voudrais opter pour le taux de pre...</td>\n",
       "      <td>bonjour voudr opter taux prélèv individualis...</td>\n",
       "      <td>False</td>\n",
       "      <td>True</td>\n",
       "    </tr>\n",
       "    <tr>\n",
       "      <th>697</th>\n",
       "      <td>1</td>\n",
       "      <td>Bonjour Madame Monsieur Je signale un changeme...</td>\n",
       "      <td>bonjour madam monsieur signal chang situat fam...</td>\n",
       "      <td>True</td>\n",
       "      <td>False</td>\n",
       "    </tr>\n",
       "    <tr>\n",
       "      <th>698</th>\n",
       "      <td>8</td>\n",
       "      <td>Bonjour, Je dois déclarer un changement de si...</td>\n",
       "      <td>bonjour dois déclar chang situat famill pac c...</td>\n",
       "      <td>False</td>\n",
       "      <td>True</td>\n",
       "    </tr>\n",
       "    <tr>\n",
       "      <th>699</th>\n",
       "      <td>1:8</td>\n",
       "      <td>Bonjour, Puis je prendre un rdv avec un consei...</td>\n",
       "      <td>bonjour puis prendr rdv conseil pos question p...</td>\n",
       "      <td>True</td>\n",
       "      <td>True</td>\n",
       "    </tr>\n",
       "  </tbody>\n",
       "</table>\n",
       "<p>700 rows × 5 columns</p>\n",
       "</div>"
      ],
      "text/plain": [
       "    label                                            message  \\\n",
       "0       8  Madame,Monsieur, je me permet de vous envoyer ...   \n",
       "1       8  je désire connaitre quel est le montant de mo...   \n",
       "2       8  Bonjour, Je fais suite du dernier message envo...   \n",
       "3       8  Bonjour, Je me permets de vous contacter afin ...   \n",
       "4       8  Madame, Monsieur, Après avoir déclaré nos r...   \n",
       "..    ...                                                ...   \n",
       "695     8  Bonjour, Depuis que j'ai déclaré mon PACS av...   \n",
       "696     8  Bonjour, Je voudrais opter pour le taux de pre...   \n",
       "697     1  Bonjour Madame Monsieur Je signale un changeme...   \n",
       "698     8  Bonjour, Je dois déclarer un changement de si...   \n",
       "699   1:8  Bonjour, Puis je prendre un rdv avec un consei...   \n",
       "\n",
       "                                         message_clean  label_1  label_8  \n",
       "0    madam monsieur permet envoi courriel car vien ...    False     True  \n",
       "1    désir connaitr quel mont impot revenu concern...    False     True  \n",
       "2    bonjour fais suit derni messag envoyé concern...    False     True  \n",
       "3    bonjour permet contact afin obten répons déc...    False     True  \n",
       "4    madam monsieur aprè avoir déclaré revenus m...    False     True  \n",
       "..                                                 ...      ...      ...  \n",
       "695  bonjour depuis déclaré pac mr retrait baisse...    False     True  \n",
       "696  bonjour voudr opter taux prélèv individualis...    False     True  \n",
       "697  bonjour madam monsieur signal chang situat fam...     True    False  \n",
       "698  bonjour dois déclar chang situat famill pac c...    False     True  \n",
       "699  bonjour puis prendr rdv conseil pos question p...     True     True  \n",
       "\n",
       "[700 rows x 5 columns]"
      ]
     },
     "execution_count": 75,
     "metadata": {},
     "output_type": "execute_result"
    }
   ],
   "source": [
    "df_train"
   ]
  },
  {
   "cell_type": "code",
   "execution_count": 76,
   "metadata": {},
   "outputs": [],
   "source": [
    "df_train['doc_vector'] = df_train['message_clean'].apply(lambda x: get_document_vector(x, word2vec_model))\n",
    "\n",
    "# Prepare feature and target variables\n",
    "X = np.vstack(df_train['doc_vector'].values)\n",
    "y = df_train['label_1']"
   ]
  },
  {
   "cell_type": "code",
   "execution_count": 79,
   "metadata": {},
   "outputs": [
    {
     "name": "stdout",
     "output_type": "stream",
     "text": [
      "Accuracy: 0.5\n"
     ]
    },
    {
     "name": "stderr",
     "output_type": "stream",
     "text": [
      "c:\\Users\\TitouanBlaize\\anaconda3\\lib\\site-packages\\sklearn\\metrics\\_classification.py:1318: UndefinedMetricWarning: Precision and F-score are ill-defined and being set to 0.0 in labels with no predicted samples. Use `zero_division` parameter to control this behavior.\n",
      "  _warn_prf(average, modifier, msg_start, len(result))\n",
      "c:\\Users\\TitouanBlaize\\anaconda3\\lib\\site-packages\\sklearn\\metrics\\_classification.py:1318: UndefinedMetricWarning: Precision and F-score are ill-defined and being set to 0.0 in labels with no predicted samples. Use `zero_division` parameter to control this behavior.\n",
      "  _warn_prf(average, modifier, msg_start, len(result))\n",
      "c:\\Users\\TitouanBlaize\\anaconda3\\lib\\site-packages\\sklearn\\metrics\\_classification.py:1318: UndefinedMetricWarning: Precision and F-score are ill-defined and being set to 0.0 in labels with no predicted samples. Use `zero_division` parameter to control this behavior.\n",
      "  _warn_prf(average, modifier, msg_start, len(result))\n"
     ]
    }
   ],
   "source": [
    "# Split data into training and test sets\n",
    "X_train, X_test, y_train, y_test = train_test_split(X, y, test_size=0.2, random_state=42)\n",
    "\n",
    "# Train Logistic Regression model\n",
    "clf = LogisticRegression()\n",
    "clf.fit(X_train, y_train)\n",
    "\n",
    "# Predict and evaluate\n",
    "y_pred = clf.predict(X_test)\n",
    "accuracy = accuracy_score(y_test, y_pred)\n",
    "report = classification_report(y_test, y_pred)\n",
    "print(f'Accuracy: {accuracy}')\n"
   ]
  },
  {
   "cell_type": "code",
   "execution_count": 83,
   "metadata": {},
   "outputs": [
    {
     "data": {
      "text/plain": [
       "(700, 100)"
      ]
     },
     "execution_count": 83,
     "metadata": {},
     "output_type": "execute_result"
    }
   ],
   "source": [
    "X.shape"
   ]
  },
  {
   "cell_type": "code",
   "execution_count": 80,
   "metadata": {},
   "outputs": [
    {
     "name": "stdout",
     "output_type": "stream",
     "text": [
      "              precision    recall  f1-score   support\n",
      "\n",
      "       False       0.00      0.00      0.00        70\n",
      "        True       0.50      1.00      0.67        70\n",
      "\n",
      "    accuracy                           0.50       140\n",
      "   macro avg       0.25      0.50      0.33       140\n",
      "weighted avg       0.25      0.50      0.33       140\n",
      "\n"
     ]
    }
   ],
   "source": [
    "print(report)"
   ]
  }
 ],
 "metadata": {
  "kernelspec": {
   "display_name": "Python 3",
   "language": "python",
   "name": "python3"
  },
  "language_info": {
   "codemirror_mode": {
    "name": "ipython",
    "version": 3
   },
   "file_extension": ".py",
   "mimetype": "text/x-python",
   "name": "python",
   "nbconvert_exporter": "python",
   "pygments_lexer": "ipython3",
   "version": "3.9.12"
  }
 },
 "nbformat": 4,
 "nbformat_minor": 2
}
