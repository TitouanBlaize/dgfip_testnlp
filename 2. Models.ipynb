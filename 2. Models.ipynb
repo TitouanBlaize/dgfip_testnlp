{
 "cells": [
  {
   "cell_type": "markdown",
   "metadata": {},
   "source": [
    "# **Modèles pour classification textuelles**"
   ]
  },
  {
   "cell_type": "markdown",
   "metadata": {},
   "source": [
    "Une fois les données nettoyées dans le notebook `1. Preprocessing` précédent, nous allons maintenant utiliser plusieurs modèles pour tenter de modéliser"
   ]
  },
  {
   "cell_type": "markdown",
   "metadata": {},
   "source": [
    "# 1. Avant propos et méthodologie"
   ]
  },
  {
   "cell_type": "markdown",
   "metadata": {},
   "source": [
    "## 1.1 Premiers éléments"
   ]
  },
  {
   "cell_type": "markdown",
   "metadata": {},
   "source": [
    "Nous allons faire de la classification textuelle avec _overlapping_ de labels.\n",
    "Les labels sont équilibrés, à priori pas besoin d'utiliser les méthodes spécifiques au _imbalanced dataset_"
   ]
  },
  {
   "cell_type": "markdown",
   "metadata": {},
   "source": [
    "## 1.2 Modèles utilisés"
   ]
  },
  {
   "cell_type": "markdown",
   "metadata": {},
   "source": [
    "Afin de réaliser l'exercice en un temps raisonnable je me suis limité à prendre les modèles \"sur étagère\" largement connus et utilisés par la communauté plutôt que des algorithmes plus pointus adaptés à cette tâche spécifique."
   ]
  },
  {
   "cell_type": "markdown",
   "metadata": {},
   "source": [
    "Les modèles classique ,classés par \"ordre de complexité\" sont les suivants :\n",
    "- (Non implémenté) Bag of Words\n",
    "- TF-IDF\n",
    "- Embedding statique _a la_ word2vec\n",
    "- (Non implémenté) Combinaison des deux méthodes pour faire du doc/sent2vec où les pondérations par mot sont données par le TF-IDF\n",
    "- Embedding \"dynamique\" en ayant recours à un transformers, ici camembert (BERT français)"
   ]
  },
  {
   "cell_type": "markdown",
   "metadata": {},
   "source": [
    "Pour comparer les modèles, une fois obtenue la représentation vectorielle de la phrase, une simple régression logisitique est appliquée en sortie."
   ]
  },
  {
   "cell_type": "markdown",
   "metadata": {},
   "source": [
    "# 2. Packages usuels et importation"
   ]
  },
  {
   "cell_type": "code",
   "execution_count": 1,
   "metadata": {},
   "outputs": [],
   "source": [
    "# Pour faciliter la mise à jour des fonctions écrites dans func_custom sans avoir à redémarrer le kernel\n",
    "%load_ext autoreload\n",
    "%autoreload 2"
   ]
  },
  {
   "cell_type": "code",
   "execution_count": 2,
   "metadata": {},
   "outputs": [
    {
     "name": "stderr",
     "output_type": "stream",
     "text": [
      "c:\\Users\\TitouanBlaize\\AppData\\Local\\Programs\\Python\\Python312\\Lib\\site-packages\\transformers\\utils\\generic.py:441: UserWarning: torch.utils._pytree._register_pytree_node is deprecated. Please use torch.utils._pytree.register_pytree_node instead.\n",
      "  _torch_pytree._register_pytree_node(\n",
      "c:\\Users\\TitouanBlaize\\AppData\\Local\\Programs\\Python\\Python312\\Lib\\site-packages\\transformers\\utils\\generic.py:309: UserWarning: torch.utils._pytree._register_pytree_node is deprecated. Please use torch.utils._pytree.register_pytree_node instead.\n",
      "  _torch_pytree._register_pytree_node(\n",
      "c:\\Users\\TitouanBlaize\\AppData\\Local\\Programs\\Python\\Python312\\Lib\\site-packages\\transformers\\utils\\generic.py:309: UserWarning: torch.utils._pytree._register_pytree_node is deprecated. Please use torch.utils._pytree.register_pytree_node instead.\n",
      "  _torch_pytree._register_pytree_node(\n"
     ]
    }
   ],
   "source": [
    "# Packages classiques\n",
    "import pandas as pd\n",
    "import numpy as np\n",
    "import torch\n",
    "\n",
    "# Custom package\n",
    "import func_custom as fc\n",
    "\n",
    "# NLP\n",
    "import spacy\n",
    "import spacy_transformers\n",
    "from transformers import CamembertModel, CamembertTokenizer\n",
    "\n",
    "# Machine Learning\n",
    "import xgboost as xgb\n",
    "from sklearn.feature_extraction.text import TfidfVectorizer\n",
    "from sklearn.linear_model import LogisticRegression\n",
    "from sklearn.model_selection import train_test_split\n",
    "from sklearn.metrics import accuracy_score, classification_report"
   ]
  },
  {
   "cell_type": "code",
   "execution_count": 3,
   "metadata": {},
   "outputs": [],
   "source": [
    "df_train = pd.read_csv(\"data/data_clean.csv\",\n",
    "                       sep = \";\")"
   ]
  },
  {
   "cell_type": "code",
   "execution_count": 4,
   "metadata": {},
   "outputs": [],
   "source": [
    "df_train[\"label_1\"] = df_train[\"label\"].apply(lambda x : \"1\" in x)\n",
    "df_train[\"label_8\"] = df_train[\"label\"].apply(lambda x : \"8\" in x)"
   ]
  },
  {
   "cell_type": "code",
   "execution_count": 17,
   "metadata": {},
   "outputs": [],
   "source": [
    "# Transformer en une liste\n",
    "documents = df_train[\"message_clean\"].tolist()\n",
    "labels = df_train[\"label_1\"].tolist()"
   ]
  },
  {
   "cell_type": "markdown",
   "metadata": {},
   "source": [
    "# 3. Différents modèles implémentés"
   ]
  },
  {
   "cell_type": "markdown",
   "metadata": {},
   "source": [
    "## 3.1 TF_IDF"
   ]
  },
  {
   "cell_type": "markdown",
   "metadata": {},
   "source": [
    "L'approche \"Bag of Word\" (un one hot encoder des mots du vocabulaire) n'est pas montrée car le TF_IDF est une amélioration immédiation où au lieu d'avoir des simples 1 dans la matrice, les poids de chaque mots dans la phrase sont pondérés par un critère d'importance. La taille de la matrice reste cependnat la même."
   ]
  },
  {
   "cell_type": "code",
   "execution_count": 18,
   "metadata": {},
   "outputs": [],
   "source": [
    "# Initialize the TF-IDF Vectorizer\n",
    "vectorizer = TfidfVectorizer()\n",
    "\n",
    "# Fit and transform the documents\n",
    "X = vectorizer.fit_transform(documents)"
   ]
  },
  {
   "cell_type": "code",
   "execution_count": 19,
   "metadata": {},
   "outputs": [
    {
     "data": {
      "text/plain": [
       "<700x3822 sparse matrix of type '<class 'numpy.float64'>'\n",
       "\twith 27028 stored elements in Compressed Sparse Row format>"
      ]
     },
     "execution_count": 19,
     "metadata": {},
     "output_type": "execute_result"
    }
   ],
   "source": [
    "X"
   ]
  },
  {
   "cell_type": "code",
   "execution_count": 20,
   "metadata": {},
   "outputs": [
    {
     "data": {
      "text/html": [
       "<div>\n",
       "<style scoped>\n",
       "    .dataframe tbody tr th:only-of-type {\n",
       "        vertical-align: middle;\n",
       "    }\n",
       "\n",
       "    .dataframe tbody tr th {\n",
       "        vertical-align: top;\n",
       "    }\n",
       "\n",
       "    .dataframe thead th {\n",
       "        text-align: right;\n",
       "    }\n",
       "</style>\n",
       "<table border=\"1\" class=\"dataframe\">\n",
       "  <thead>\n",
       "    <tr style=\"text-align: right;\">\n",
       "      <th></th>\n",
       "      <th>label</th>\n",
       "      <th>message</th>\n",
       "      <th>message_clean</th>\n",
       "      <th>label_1</th>\n",
       "      <th>label_8</th>\n",
       "    </tr>\n",
       "  </thead>\n",
       "  <tbody>\n",
       "    <tr>\n",
       "      <th>0</th>\n",
       "      <td>8</td>\n",
       "      <td>Madame,Monsieur, je me permet de vous envoyer ...</td>\n",
       "      <td>permet envoyer courriel viens apercevoir alloc...</td>\n",
       "      <td>False</td>\n",
       "      <td>True</td>\n",
       "    </tr>\n",
       "    <tr>\n",
       "      <th>1</th>\n",
       "      <td>8</td>\n",
       "      <td>je désire connaitre quel est le montant de mo...</td>\n",
       "      <td>désire connaitre quel montant impot revenu con...</td>\n",
       "      <td>False</td>\n",
       "      <td>True</td>\n",
       "    </tr>\n",
       "    <tr>\n",
       "      <th>2</th>\n",
       "      <td>8</td>\n",
       "      <td>Bonjour, Je fais suite du dernier message envo...</td>\n",
       "      <td>fais suite dernier message envoyé concernant n...</td>\n",
       "      <td>False</td>\n",
       "      <td>True</td>\n",
       "    </tr>\n",
       "    <tr>\n",
       "      <th>3</th>\n",
       "      <td>8</td>\n",
       "      <td>Bonjour, Je me permets de vous contacter afin ...</td>\n",
       "      <td>permets contacter afin obtenir réponse déclara...</td>\n",
       "      <td>False</td>\n",
       "      <td>True</td>\n",
       "    </tr>\n",
       "    <tr>\n",
       "      <th>4</th>\n",
       "      <td>8</td>\n",
       "      <td>Madame, Monsieur, Après avoir déclaré nos r...</td>\n",
       "      <td>après déclaré revenus pacs signé constatons ta...</td>\n",
       "      <td>False</td>\n",
       "      <td>True</td>\n",
       "    </tr>\n",
       "    <tr>\n",
       "      <th>...</th>\n",
       "      <td>...</td>\n",
       "      <td>...</td>\n",
       "      <td>...</td>\n",
       "      <td>...</td>\n",
       "      <td>...</td>\n",
       "    </tr>\n",
       "    <tr>\n",
       "      <th>695</th>\n",
       "      <td>8</td>\n",
       "      <td>Bonjour, Depuis que j'ai déclaré mon PACS av...</td>\n",
       "      <td>depuis déclaré pacs retraites baissé pourquoi ...</td>\n",
       "      <td>False</td>\n",
       "      <td>True</td>\n",
       "    </tr>\n",
       "    <tr>\n",
       "      <th>696</th>\n",
       "      <td>8</td>\n",
       "      <td>Bonjour, Je voudrais opter pour le taux de pre...</td>\n",
       "      <td>voudrais opter taux prélèvement individualisé ...</td>\n",
       "      <td>False</td>\n",
       "      <td>True</td>\n",
       "    </tr>\n",
       "    <tr>\n",
       "      <th>697</th>\n",
       "      <td>1</td>\n",
       "      <td>Bonjour Madame Monsieur Je signale un changeme...</td>\n",
       "      <td>signale changement situation familiale depuis ...</td>\n",
       "      <td>True</td>\n",
       "      <td>False</td>\n",
       "    </tr>\n",
       "    <tr>\n",
       "      <th>698</th>\n",
       "      <td>8</td>\n",
       "      <td>Bonjour, Je dois déclarer un changement de si...</td>\n",
       "      <td>dois déclarer changement situation famille pac...</td>\n",
       "      <td>False</td>\n",
       "      <td>True</td>\n",
       "    </tr>\n",
       "    <tr>\n",
       "      <th>699</th>\n",
       "      <td>1:8</td>\n",
       "      <td>Bonjour, Puis je prendre un rdv avec un consei...</td>\n",
       "      <td>puis prendre rdv conseiller poser questions pr...</td>\n",
       "      <td>True</td>\n",
       "      <td>True</td>\n",
       "    </tr>\n",
       "  </tbody>\n",
       "</table>\n",
       "<p>700 rows × 5 columns</p>\n",
       "</div>"
      ],
      "text/plain": [
       "    label                                            message  \\\n",
       "0       8  Madame,Monsieur, je me permet de vous envoyer ...   \n",
       "1       8  je désire connaitre quel est le montant de mo...   \n",
       "2       8  Bonjour, Je fais suite du dernier message envo...   \n",
       "3       8  Bonjour, Je me permets de vous contacter afin ...   \n",
       "4       8  Madame, Monsieur, Après avoir déclaré nos r...   \n",
       "..    ...                                                ...   \n",
       "695     8  Bonjour, Depuis que j'ai déclaré mon PACS av...   \n",
       "696     8  Bonjour, Je voudrais opter pour le taux de pre...   \n",
       "697     1  Bonjour Madame Monsieur Je signale un changeme...   \n",
       "698     8  Bonjour, Je dois déclarer un changement de si...   \n",
       "699   1:8  Bonjour, Puis je prendre un rdv avec un consei...   \n",
       "\n",
       "                                         message_clean  label_1  label_8  \n",
       "0    permet envoyer courriel viens apercevoir alloc...    False     True  \n",
       "1    désire connaitre quel montant impot revenu con...    False     True  \n",
       "2    fais suite dernier message envoyé concernant n...    False     True  \n",
       "3    permets contacter afin obtenir réponse déclara...    False     True  \n",
       "4    après déclaré revenus pacs signé constatons ta...    False     True  \n",
       "..                                                 ...      ...      ...  \n",
       "695  depuis déclaré pacs retraites baissé pourquoi ...    False     True  \n",
       "696  voudrais opter taux prélèvement individualisé ...    False     True  \n",
       "697  signale changement situation familiale depuis ...     True    False  \n",
       "698  dois déclarer changement situation famille pac...    False     True  \n",
       "699  puis prendre rdv conseiller poser questions pr...     True     True  \n",
       "\n",
       "[700 rows x 5 columns]"
      ]
     },
     "execution_count": 20,
     "metadata": {},
     "output_type": "execute_result"
    }
   ],
   "source": [
    "df_train"
   ]
  },
  {
   "cell_type": "code",
   "execution_count": 15,
   "metadata": {},
   "outputs": [],
   "source": [
    "# Step 3: Train a classifier\n",
    "X_train, X_test, y_train, y_test = train_test_split(X, labels, test_size=0.3, random_state=42)\n",
    "classifier = xgb.XGBClassifier()\n",
    "classifier.fit(X_train, y_train)\n",
    "\n",
    "# Step 4: Evaluate your model\n",
    "y_pred = classifier.predict(X_test)\n",
    "accuracy = accuracy_score(y_test, y_pred)\n",
    "report = classification_report(y_test, y_pred)"
   ]
  },
  {
   "cell_type": "code",
   "execution_count": 16,
   "metadata": {},
   "outputs": [
    {
     "name": "stdout",
     "output_type": "stream",
     "text": [
      "              precision    recall  f1-score   support\n",
      "\n",
      "       False       0.78      0.74      0.76        98\n",
      "        True       0.79      0.82      0.80       112\n",
      "\n",
      "    accuracy                           0.79       210\n",
      "   macro avg       0.79      0.78      0.78       210\n",
      "weighted avg       0.79      0.79      0.79       210\n",
      "\n"
     ]
    }
   ],
   "source": [
    "print(report)"
   ]
  },
  {
   "cell_type": "code",
   "execution_count": 63,
   "metadata": {},
   "outputs": [
    {
     "data": {
      "image/png": "[encoded data removed]",
      "text/plain": [
       "<Figure size 640x480 with 1 Axes>"
      ]
     },
     "metadata": {},
     "output_type": "display_data"
    }
   ],
   "source": [
    "_ = xgb.plot_importance(classifier, \n",
    "                        importance_type = \"gain\",\n",
    "                        max_num_features = 25,\n",
    "                        show_values = False)"
   ]
  },
  {
   "cell_type": "markdown",
   "metadata": {},
   "source": [
    "## 3.2 Word2vec et donc Doc2vec"
   ]
  },
  {
   "cell_type": "code",
   "execution_count": 74,
   "metadata": {},
   "outputs": [],
   "source": [
    "from gensim.models import Word2Vec\n",
    "\n",
    "\n",
    "word2vec_model = Word2Vec(documents, vector_size=100, window=5, min_count=1, workers=4)\n",
    "\n",
    "def get_document_vector(doc, model):\n",
    "    valid_words = [word for word in doc if word in model.wv.key_to_index]\n",
    "    if not valid_words:\n",
    "        return np.zeros(model.vector_size)\n",
    "    return np.mean([model.wv[word] for word in valid_words], axis=0)"
   ]
  },
  {
   "cell_type": "code",
   "execution_count": 75,
   "metadata": {},
   "outputs": [
    {
     "data": {
      "text/html": [
       "<div>\n",
       "<style scoped>\n",
       "    .dataframe tbody tr th:only-of-type {\n",
       "        vertical-align: middle;\n",
       "    }\n",
       "\n",
       "    .dataframe tbody tr th {\n",
       "        vertical-align: top;\n",
       "    }\n",
       "\n",
       "    .dataframe thead th {\n",
       "        text-align: right;\n",
       "    }\n",
       "</style>\n",
       "<table border=\"1\" class=\"dataframe\">\n",
       "  <thead>\n",
       "    <tr style=\"text-align: right;\">\n",
       "      <th></th>\n",
       "      <th>label</th>\n",
       "      <th>message</th>\n",
       "      <th>message_clean</th>\n",
       "      <th>label_1</th>\n",
       "      <th>label_8</th>\n",
       "    </tr>\n",
       "  </thead>\n",
       "  <tbody>\n",
       "    <tr>\n",
       "      <th>0</th>\n",
       "      <td>8</td>\n",
       "      <td>Madame,Monsieur, je me permet de vous envoyer ...</td>\n",
       "      <td>madam monsieur permet envoi courriel car vien ...</td>\n",
       "      <td>False</td>\n",
       "      <td>True</td>\n",
       "    </tr>\n",
       "    <tr>\n",
       "      <th>1</th>\n",
       "      <td>8</td>\n",
       "      <td>je désire connaitre quel est le montant de mo...</td>\n",
       "      <td>désir connaitr quel mont impot revenu concern...</td>\n",
       "      <td>False</td>\n",
       "      <td>True</td>\n",
       "    </tr>\n",
       "    <tr>\n",
       "      <th>2</th>\n",
       "      <td>8</td>\n",
       "      <td>Bonjour, Je fais suite du dernier message envo...</td>\n",
       "      <td>bonjour fais suit derni messag envoyé concern...</td>\n",
       "      <td>False</td>\n",
       "      <td>True</td>\n",
       "    </tr>\n",
       "    <tr>\n",
       "      <th>3</th>\n",
       "      <td>8</td>\n",
       "      <td>Bonjour, Je me permets de vous contacter afin ...</td>\n",
       "      <td>bonjour permet contact afin obten répons déc...</td>\n",
       "      <td>False</td>\n",
       "      <td>True</td>\n",
       "    </tr>\n",
       "    <tr>\n",
       "      <th>4</th>\n",
       "      <td>8</td>\n",
       "      <td>Madame, Monsieur, Après avoir déclaré nos r...</td>\n",
       "      <td>madam monsieur aprè avoir déclaré revenus m...</td>\n",
       "      <td>False</td>\n",
       "      <td>True</td>\n",
       "    </tr>\n",
       "    <tr>\n",
       "      <th>...</th>\n",
       "      <td>...</td>\n",
       "      <td>...</td>\n",
       "      <td>...</td>\n",
       "      <td>...</td>\n",
       "      <td>...</td>\n",
       "    </tr>\n",
       "    <tr>\n",
       "      <th>695</th>\n",
       "      <td>8</td>\n",
       "      <td>Bonjour, Depuis que j'ai déclaré mon PACS av...</td>\n",
       "      <td>bonjour depuis déclaré pac mr retrait baisse...</td>\n",
       "      <td>False</td>\n",
       "      <td>True</td>\n",
       "    </tr>\n",
       "    <tr>\n",
       "      <th>696</th>\n",
       "      <td>8</td>\n",
       "      <td>Bonjour, Je voudrais opter pour le taux de pre...</td>\n",
       "      <td>bonjour voudr opter taux prélèv individualis...</td>\n",
       "      <td>False</td>\n",
       "      <td>True</td>\n",
       "    </tr>\n",
       "    <tr>\n",
       "      <th>697</th>\n",
       "      <td>1</td>\n",
       "      <td>Bonjour Madame Monsieur Je signale un changeme...</td>\n",
       "      <td>bonjour madam monsieur signal chang situat fam...</td>\n",
       "      <td>True</td>\n",
       "      <td>False</td>\n",
       "    </tr>\n",
       "    <tr>\n",
       "      <th>698</th>\n",
       "      <td>8</td>\n",
       "      <td>Bonjour, Je dois déclarer un changement de si...</td>\n",
       "      <td>bonjour dois déclar chang situat famill pac c...</td>\n",
       "      <td>False</td>\n",
       "      <td>True</td>\n",
       "    </tr>\n",
       "    <tr>\n",
       "      <th>699</th>\n",
       "      <td>1:8</td>\n",
       "      <td>Bonjour, Puis je prendre un rdv avec un consei...</td>\n",
       "      <td>bonjour puis prendr rdv conseil pos question p...</td>\n",
       "      <td>True</td>\n",
       "      <td>True</td>\n",
       "    </tr>\n",
       "  </tbody>\n",
       "</table>\n",
       "<p>700 rows × 5 columns</p>\n",
       "</div>"
      ],
      "text/plain": [
       "    label                                            message  \\\n",
       "0       8  Madame,Monsieur, je me permet de vous envoyer ...   \n",
       "1       8  je désire connaitre quel est le montant de mo...   \n",
       "2       8  Bonjour, Je fais suite du dernier message envo...   \n",
       "3       8  Bonjour, Je me permets de vous contacter afin ...   \n",
       "4       8  Madame, Monsieur, Après avoir déclaré nos r...   \n",
       "..    ...                                                ...   \n",
       "695     8  Bonjour, Depuis que j'ai déclaré mon PACS av...   \n",
       "696     8  Bonjour, Je voudrais opter pour le taux de pre...   \n",
       "697     1  Bonjour Madame Monsieur Je signale un changeme...   \n",
       "698     8  Bonjour, Je dois déclarer un changement de si...   \n",
       "699   1:8  Bonjour, Puis je prendre un rdv avec un consei...   \n",
       "\n",
       "                                         message_clean  label_1  label_8  \n",
       "0    madam monsieur permet envoi courriel car vien ...    False     True  \n",
       "1    désir connaitr quel mont impot revenu concern...    False     True  \n",
       "2    bonjour fais suit derni messag envoyé concern...    False     True  \n",
       "3    bonjour permet contact afin obten répons déc...    False     True  \n",
       "4    madam monsieur aprè avoir déclaré revenus m...    False     True  \n",
       "..                                                 ...      ...      ...  \n",
       "695  bonjour depuis déclaré pac mr retrait baisse...    False     True  \n",
       "696  bonjour voudr opter taux prélèv individualis...    False     True  \n",
       "697  bonjour madam monsieur signal chang situat fam...     True    False  \n",
       "698  bonjour dois déclar chang situat famill pac c...    False     True  \n",
       "699  bonjour puis prendr rdv conseil pos question p...     True     True  \n",
       "\n",
       "[700 rows x 5 columns]"
      ]
     },
     "execution_count": 75,
     "metadata": {},
     "output_type": "execute_result"
    }
   ],
   "source": [
    "df_train"
   ]
  },
  {
   "cell_type": "code",
   "execution_count": 76,
   "metadata": {},
   "outputs": [],
   "source": [
    "df_train['doc_vector'] = df_train['message_clean'].apply(lambda x: get_document_vector(x, word2vec_model))\n",
    "\n",
    "# Prepare feature and target variables\n",
    "X = np.vstack(df_train['doc_vector'].values)\n",
    "y = df_train['label_1']"
   ]
  },
  {
   "cell_type": "code",
   "execution_count": 79,
   "metadata": {},
   "outputs": [
    {
     "name": "stdout",
     "output_type": "stream",
     "text": [
      "Accuracy: 0.5\n"
     ]
    },
    {
     "name": "stderr",
     "output_type": "stream",
     "text": [
      "c:\\Users\\TitouanBlaize\\anaconda3\\lib\\site-packages\\sklearn\\metrics\\_classification.py:1318: UndefinedMetricWarning: Precision and F-score are ill-defined and being set to 0.0 in labels with no predicted samples. Use `zero_division` parameter to control this behavior.\n",
      "  _warn_prf(average, modifier, msg_start, len(result))\n",
      "c:\\Users\\TitouanBlaize\\anaconda3\\lib\\site-packages\\sklearn\\metrics\\_classification.py:1318: UndefinedMetricWarning: Precision and F-score are ill-defined and being set to 0.0 in labels with no predicted samples. Use `zero_division` parameter to control this behavior.\n",
      "  _warn_prf(average, modifier, msg_start, len(result))\n",
      "c:\\Users\\TitouanBlaize\\anaconda3\\lib\\site-packages\\sklearn\\metrics\\_classification.py:1318: UndefinedMetricWarning: Precision and F-score are ill-defined and being set to 0.0 in labels with no predicted samples. Use `zero_division` parameter to control this behavior.\n",
      "  _warn_prf(average, modifier, msg_start, len(result))\n"
     ]
    }
   ],
   "source": [
    "# Split data into training and test sets\n",
    "X_train, X_test, y_train, y_test = train_test_split(X, y, test_size=0.2, random_state=42)\n",
    "\n",
    "# Train Logistic Regression model\n",
    "clf = LogisticRegression()\n",
    "clf.fit(X_train, y_train)\n",
    "\n",
    "# Predict and evaluate\n",
    "y_pred = clf.predict(X_test)\n",
    "accuracy = accuracy_score(y_test, y_pred)\n",
    "report = classification_report(y_test, y_pred)\n",
    "print(f'Accuracy: {accuracy}')\n"
   ]
  },
  {
   "cell_type": "code",
   "execution_count": 83,
   "metadata": {},
   "outputs": [
    {
     "data": {
      "text/plain": [
       "(700, 100)"
      ]
     },
     "execution_count": 83,
     "metadata": {},
     "output_type": "execute_result"
    }
   ],
   "source": [
    "X.shape"
   ]
  },
  {
   "cell_type": "code",
   "execution_count": 80,
   "metadata": {},
   "outputs": [
    {
     "name": "stdout",
     "output_type": "stream",
     "text": [
      "              precision    recall  f1-score   support\n",
      "\n",
      "       False       0.00      0.00      0.00        70\n",
      "        True       0.50      1.00      0.67        70\n",
      "\n",
      "    accuracy                           0.50       140\n",
      "   macro avg       0.25      0.50      0.33       140\n",
      "weighted avg       0.25      0.50      0.33       140\n",
      "\n"
     ]
    }
   ],
   "source": [
    "print(report)"
   ]
  },
  {
   "cell_type": "markdown",
   "metadata": {},
   "source": [
    "## 3.3 Transformers : Camembert (RoBERTa)"
   ]
  },
  {
   "cell_type": "markdown",
   "metadata": {},
   "source": [
    "On utilise Camembert directement. On aurait également pu passer par Spacy qui dispose d'un transformers français https://spacy.io/models/fr#fr_dep_news_trf"
   ]
  },
  {
   "cell_type": "code",
   "execution_count": 6,
   "metadata": {},
   "outputs": [
    {
     "name": "stderr",
     "output_type": "stream",
     "text": [
      "c:\\Users\\TitouanBlaize\\AppData\\Local\\Programs\\Python\\Python312\\Lib\\site-packages\\huggingface_hub\\file_download.py:1132: FutureWarning: `resume_download` is deprecated and will be removed in version 1.0.0. Downloads always resume when possible. If you want to force a new download, use `force_download=True`.\n",
      "  warnings.warn(\n"
     ]
    }
   ],
   "source": [
    "# You can replace \"camembert-base\" with any other model from the table, e.g. \"camembert/camembert-large\".\n",
    "tokenizer = CamembertTokenizer.from_pretrained(\"camembert/camembert-base-wikipedia-4gb\")\n",
    "camembert = CamembertModel.from_pretrained(\"camembert/camembert-base-wikipedia-4gb\")"
   ]
  },
  {
   "cell_type": "code",
   "execution_count": 44,
   "metadata": {},
   "outputs": [],
   "source": [
    "df_camembert  = pd.DataFrame()\n",
    "for index, row in df_train.iterrows():\n",
    "    message_raw = row[\"message\"]\n",
    "\n",
    "    tokenized_sentence = tokenizer.tokenize(message_raw)\n",
    "\n",
    "    encoded_sentence = tokenizer.encode(tokenized_sentence)\n",
    "\n",
    "    if (len(encoded_sentence) > 512) :\n",
    "        encoded_sentence = encoded_sentence[:511]\n",
    "        \n",
    "    encoded_sentence = torch.tensor(encoded_sentence).unsqueeze(0)\n",
    "\n",
    "    results_camembert = camembert(encoded_sentence)\n",
    "\n",
    "    new_row = pd.DataFrame(results_camembert.last_hidden_state.detach()[:,0,:])\n",
    "    df_camembert = pd.concat([df_camembert, new_row], ignore_index = True)\n",
    "\n",
    "df_camembert.to_csv(\"data/data_camembert.csv\", sep = \";\", index = False)"
   ]
  },
  {
   "cell_type": "code",
   "execution_count": 66,
   "metadata": {},
   "outputs": [
    {
     "name": "stdout",
     "output_type": "stream",
     "text": [
      "Accuracy: 0.7928571428571428\n"
     ]
    },
    {
     "name": "stderr",
     "output_type": "stream",
     "text": [
      "c:\\Users\\TitouanBlaize\\AppData\\Local\\Programs\\Python\\Python312\\Lib\\site-packages\\sklearn\\linear_model\\_logistic.py:469: ConvergenceWarning: lbfgs failed to converge (status=1):\n",
      "STOP: TOTAL NO. of ITERATIONS REACHED LIMIT.\n",
      "\n",
      "Increase the number of iterations (max_iter) or scale the data as shown in:\n",
      "    https://scikit-learn.org/stable/modules/preprocessing.html\n",
      "Please also refer to the documentation for alternative solver options:\n",
      "    https://scikit-learn.org/stable/modules/linear_model.html#logistic-regression\n",
      "  n_iter_i = _check_optimize_result(\n"
     ]
    }
   ],
   "source": [
    "y = df_train[\"label_8\"]\n",
    "X = df_camembert\n",
    "\n",
    "# Split data into training and test sets\n",
    "X_train, X_test, y_train, y_test = train_test_split(X, y, test_size=0.2)\n",
    "\n",
    "# Train Logistic Regression model\n",
    "clf = LogisticRegression()\n",
    "clf.fit(X_train, y_train)\n",
    "\n",
    "# Predict and evaluate\n",
    "y_pred = clf.predict(X_test)\n",
    "accuracy = accuracy_score(y_test, y_pred)\n",
    "report = classification_report(y_test, y_pred)\n",
    "print(f'Accuracy: {accuracy}')"
   ]
  },
  {
   "cell_type": "code",
   "execution_count": 67,
   "metadata": {},
   "outputs": [
    {
     "name": "stdout",
     "output_type": "stream",
     "text": [
      "              precision    recall  f1-score   support\n",
      "\n",
      "       False       0.78      0.74      0.76        61\n",
      "        True       0.80      0.84      0.82        79\n",
      "\n",
      "    accuracy                           0.79       140\n",
      "   macro avg       0.79      0.79      0.79       140\n",
      "weighted avg       0.79      0.79      0.79       140\n",
      "\n"
     ]
    }
   ],
   "source": [
    "print(report)"
   ]
  }
 ],
 "metadata": {
  "kernelspec": {
   "display_name": "Python 3",
   "language": "python",
   "name": "python3"
  },
  "language_info": {
   "codemirror_mode": {
    "name": "ipython",
    "version": 3
   },
   "file_extension": ".py",
   "mimetype": "text/x-python",
   "name": "python",
   "nbconvert_exporter": "python",
   "pygments_lexer": "ipython3",
   "version": "3.12.3"
  }
 },
 "nbformat": 4,
 "nbformat_minor": 2
}
