{
 "cells": [
  {
   "cell_type": "markdown",
   "metadata": {},
   "source": [
    "# **Modèles pour classification textuelle**"
   ]
  },
  {
   "cell_type": "markdown",
   "metadata": {},
   "source": [
    "Une fois les données nettoyées dans le notebook `1. Preprocessing` précédent, nous allons maintenant utiliser plusieurs modèles pour classifier les messages."
   ]
  },
  {
   "cell_type": "markdown",
   "metadata": {},
   "source": [
    "# 1. Avant propos et méthodologie"
   ]
  },
  {
   "cell_type": "markdown",
   "metadata": {},
   "source": [
    "## 1.1 Premiers éléments"
   ]
  },
  {
   "cell_type": "markdown",
   "metadata": {},
   "source": [
    "Nous allons faire de la classification textuelle avec _overlapping_ de labels. Il s'agit donc d'une _multilabel classification_ par opposition au _multiclass classification_ dans le cas où un seul label était possible par message. Pour traiter cela nous allons tout simplement séparer l'analyse en deux _binary classification_ simples : prédiction d'être `label 1` puis prédiction d'être `label 8`. La prédiction d'être `label 1:8` sera alors la simple combinaison des deux exercices précédents.\n",
    "\n",
    "\n",
    "Par ailleurs les labels sont équilibrés, à priori pas besoin d'utiliser les méthodes spécifiques au _imbalanced dataset_ (cf. `0. EDA.ipynb`)"
   ]
  },
  {
   "cell_type": "markdown",
   "metadata": {},
   "source": [
    "## 1.2 Vectorisation des textes nettoyés"
   ]
  },
  {
   "cell_type": "markdown",
   "metadata": {},
   "source": [
    "Afin de réaliser l'exercice en un temps raisonnable je me suis limité à prendre les modèles \"sur étagère\" largement connus et utilisés par la communauté plutôt que des algorithmes plus de niche/_state of the art_."
   ]
  },
  {
   "cell_type": "markdown",
   "metadata": {},
   "source": [
    "Le premier choix concerne l'implémentation d'un modèle transformant le texte nettoyé en un vecteur analysable par un algorithme de classification dans un second temps. Ces `vectorizers` retenus sont par ordre de complexité :\n",
    "- (Non implémenté) One-Hot Vectorizer/Bag of Words\n",
    "- [TF-IDF](#31-tf_idf) : une matrice _document term_ de même taille que précédemment mais mieux pondérée, amélioration immédiate de la méthode précédente. Cette méthode, bien que simple, est souvent déjà très efficace lorsque la _downstream task_ est une classication usuelle comme le cas présent.\n",
    "- [Embedding \"statique\" _a la_ word2vec](#32-doc2vec--word2vec-issu-de-spacy--moyenne-arithmétique) : moyenne arithmétique des word2vec pour faire un Doc2Vec\n",
    "- (Non implémenté) Combinaison des deux méthodes pour faire du doc/sent2vec où les pondérations par mot sont données par le TF-IDF\n",
    "- [Embedding \"dynamique\"](#33-transformers--camembert-roberta) en ayant recours à un transformers (partie encoder), ici camembert (BERT français)"
   ]
  },
  {
   "cell_type": "markdown",
   "metadata": {},
   "source": [
    "## 1.3 Algorithmes de ML pour classification supervisée"
   ]
  },
  {
   "cell_type": "markdown",
   "metadata": {},
   "source": [
    "Une fois la représentation vectorielle plus ou moins dense retenue, il faut recourir un à algorithme de classification classique du machine learning. Pour en citer quelques-uns :\n",
    "- Régression logistique simple ou pénalisée (Ridge, Lasso)\n",
    "- SVM, particulièrement efficace pour des tâches de classification textuelle dans la mesure où elle prend efficacement en compte les matrices _sparses_ de TF-IDF\n",
    "- XGBoost : \"roi des compétitions Kaggle\"\n",
    "\n",
    "Ces modèles peuvent chacun faire l'objet d'une _hyperparameter tuning_ pour améliorer les performances."
   ]
  },
  {
   "cell_type": "markdown",
   "metadata": {},
   "source": [
    "## 1.4 Métriques de succès"
   ]
  },
  {
   "cell_type": "markdown",
   "metadata": {},
   "source": [
    "Puisque l'échantillon est quasi équilibré entre 1 et 8 (même lorsque qu'on attribue `1:8` à l'une ou l'autre des classes) l'accuracy toute simple pourrait être suffisante, alors que cette métrique est très peu utilisée usuellement (absolument pas pertinente dès lors que l'échantillon est déséquilibré, ce qui est généralement le cas en pratique - en tout cas dans mon expérience passée)."
   ]
  },
  {
   "cell_type": "markdown",
   "metadata": {},
   "source": [
    "# 2. Packages usuels et importation"
   ]
  },
  {
   "cell_type": "code",
   "execution_count": 29,
   "metadata": {},
   "outputs": [
    {
     "name": "stdout",
     "output_type": "stream",
     "text": [
      "The autoreload extension is already loaded. To reload it, use:\n",
      "  %reload_ext autoreload\n"
     ]
    }
   ],
   "source": [
    "# Pour faciliter la mise à jour des fonctions écrites dans func_custom sans avoir à redémarrer le kernel\n",
    "%load_ext autoreload\n",
    "%autoreload 2"
   ]
  },
  {
   "cell_type": "code",
   "execution_count": 30,
   "metadata": {},
   "outputs": [],
   "source": [
    "# Packages classiques\n",
    "import pandas as pd\n",
    "import torch\n",
    "import pickle\n",
    "from scipy.stats import loguniform\n",
    "import func_custom as fc\n",
    "\n",
    "# NLP\n",
    "import spacy\n",
    "from transformers import CamembertModel, CamembertTokenizer\n",
    "\n",
    "# Machine Learning\n",
    "import xgboost as xgb\n",
    "from sklearn.feature_extraction.text import TfidfVectorizer\n",
    "from sklearn.linear_model import LogisticRegression\n",
    "from sklearn.svm import LinearSVC\n",
    "from sklearn.model_selection import train_test_split, RandomizedSearchCV\n",
    "from sklearn.metrics import classification_report"
   ]
  },
  {
   "cell_type": "code",
   "execution_count": 31,
   "metadata": {},
   "outputs": [],
   "source": [
    "df = pd.read_csv(\"data/data_clean.csv\", sep = \";\")"
   ]
  },
  {
   "cell_type": "code",
   "execution_count": 32,
   "metadata": {},
   "outputs": [],
   "source": [
    "# Préparation des labels pour transformer la classification multilabel en deux classifications binaires classiques\n",
    "df[\"label_1\"] = df[\"label\"].apply(lambda x : \"1\" in x)\n",
    "df[\"label_8\"] = df[\"label\"].apply(lambda x : \"8\" in x)\n",
    "y_1 = df[\"label_1\"]\n",
    "y_8 = df[\"label_8\"]"
   ]
  },
  {
   "cell_type": "code",
   "execution_count": 33,
   "metadata": {},
   "outputs": [],
   "source": [
    "# A changer pour créer le joblib associé à chaque label\n",
    "y = y_8\n",
    "\n",
    "my_random = 42\n",
    "my_size = 0.2"
   ]
  },
  {
   "cell_type": "markdown",
   "metadata": {},
   "source": [
    "# 3. Comparaison des modèles de vectorisation"
   ]
  },
  {
   "cell_type": "markdown",
   "metadata": {},
   "source": [
    "## 3.1 TF_IDF"
   ]
  },
  {
   "cell_type": "markdown",
   "metadata": {},
   "source": [
    "L'approche One-Hot Vectorizer/Bag of Words n'est pas montrée car le TF_IDF est une amélioration immédiation où au lieu d'avoir des simples 1 dans la matrice, les poids de chaque mots dans la phrase sont pondérés par un critère d'importance. La taille de la matrice reste cependnat la même."
   ]
  },
  {
   "cell_type": "code",
   "execution_count": 34,
   "metadata": {},
   "outputs": [],
   "source": [
    "messages = df[\"message_clean\"]\n",
    "\n",
    "# Si on voulait comparer les résultats en prenant des messages non nettoyés\n",
    "# messages = df[\"message\"].apply(lambda x: unicodedata.normalize(\"NFKC\", x))"
   ]
  },
  {
   "cell_type": "code",
   "execution_count": 35,
   "metadata": {},
   "outputs": [],
   "source": [
    "vectorizer = TfidfVectorizer(min_df = 2)\n",
    "X_tfidf = vectorizer.fit_transform(messages)"
   ]
  },
  {
   "cell_type": "code",
   "execution_count": 36,
   "metadata": {},
   "outputs": [
    {
     "data": {
      "text/html": [
       "<div>\n",
       "<style scoped>\n",
       "    .dataframe tbody tr th:only-of-type {\n",
       "        vertical-align: middle;\n",
       "    }\n",
       "\n",
       "    .dataframe tbody tr th {\n",
       "        vertical-align: top;\n",
       "    }\n",
       "\n",
       "    .dataframe thead th {\n",
       "        text-align: right;\n",
       "    }\n",
       "</style>\n",
       "<table border=\"1\" class=\"dataframe\">\n",
       "  <thead>\n",
       "    <tr style=\"text-align: right;\">\n",
       "      <th></th>\n",
       "      <th>abattement</th>\n",
       "      <th>abord</th>\n",
       "      <th>aboutir</th>\n",
       "      <th>absence</th>\n",
       "      <th>absolument</th>\n",
       "      <th>accepter</th>\n",
       "      <th>accessible</th>\n",
       "      <th>accident</th>\n",
       "      <th>accompagner</th>\n",
       "      <th>accord</th>\n",
       "      <th>...</th>\n",
       "      <th>étudiant</th>\n",
       "      <th>évaluer</th>\n",
       "      <th>éventuel</th>\n",
       "      <th>éventuellement</th>\n",
       "      <th>évidemment</th>\n",
       "      <th>évident</th>\n",
       "      <th>éviter</th>\n",
       "      <th>évoluer</th>\n",
       "      <th>évolution</th>\n",
       "      <th>événement</th>\n",
       "    </tr>\n",
       "  </thead>\n",
       "  <tbody>\n",
       "    <tr>\n",
       "      <th>0</th>\n",
       "      <td>0.0</td>\n",
       "      <td>0.0</td>\n",
       "      <td>0.0</td>\n",
       "      <td>0.0</td>\n",
       "      <td>0.0</td>\n",
       "      <td>0.0</td>\n",
       "      <td>0.0</td>\n",
       "      <td>0.0</td>\n",
       "      <td>0.0</td>\n",
       "      <td>0.0</td>\n",
       "      <td>...</td>\n",
       "      <td>0.0</td>\n",
       "      <td>0.0</td>\n",
       "      <td>0.0</td>\n",
       "      <td>0.0</td>\n",
       "      <td>0.0</td>\n",
       "      <td>0.0</td>\n",
       "      <td>0.0</td>\n",
       "      <td>0.0</td>\n",
       "      <td>0.0</td>\n",
       "      <td>0.000000</td>\n",
       "    </tr>\n",
       "    <tr>\n",
       "      <th>1</th>\n",
       "      <td>0.0</td>\n",
       "      <td>0.0</td>\n",
       "      <td>0.0</td>\n",
       "      <td>0.0</td>\n",
       "      <td>0.0</td>\n",
       "      <td>0.0</td>\n",
       "      <td>0.0</td>\n",
       "      <td>0.0</td>\n",
       "      <td>0.0</td>\n",
       "      <td>0.0</td>\n",
       "      <td>...</td>\n",
       "      <td>0.0</td>\n",
       "      <td>0.0</td>\n",
       "      <td>0.0</td>\n",
       "      <td>0.0</td>\n",
       "      <td>0.0</td>\n",
       "      <td>0.0</td>\n",
       "      <td>0.0</td>\n",
       "      <td>0.0</td>\n",
       "      <td>0.0</td>\n",
       "      <td>0.000000</td>\n",
       "    </tr>\n",
       "    <tr>\n",
       "      <th>2</th>\n",
       "      <td>0.0</td>\n",
       "      <td>0.0</td>\n",
       "      <td>0.0</td>\n",
       "      <td>0.0</td>\n",
       "      <td>0.0</td>\n",
       "      <td>0.0</td>\n",
       "      <td>0.0</td>\n",
       "      <td>0.0</td>\n",
       "      <td>0.0</td>\n",
       "      <td>0.0</td>\n",
       "      <td>...</td>\n",
       "      <td>0.0</td>\n",
       "      <td>0.0</td>\n",
       "      <td>0.0</td>\n",
       "      <td>0.0</td>\n",
       "      <td>0.0</td>\n",
       "      <td>0.0</td>\n",
       "      <td>0.0</td>\n",
       "      <td>0.0</td>\n",
       "      <td>0.0</td>\n",
       "      <td>0.000000</td>\n",
       "    </tr>\n",
       "    <tr>\n",
       "      <th>3</th>\n",
       "      <td>0.0</td>\n",
       "      <td>0.0</td>\n",
       "      <td>0.0</td>\n",
       "      <td>0.0</td>\n",
       "      <td>0.0</td>\n",
       "      <td>0.0</td>\n",
       "      <td>0.0</td>\n",
       "      <td>0.0</td>\n",
       "      <td>0.0</td>\n",
       "      <td>0.0</td>\n",
       "      <td>...</td>\n",
       "      <td>0.0</td>\n",
       "      <td>0.0</td>\n",
       "      <td>0.0</td>\n",
       "      <td>0.0</td>\n",
       "      <td>0.0</td>\n",
       "      <td>0.0</td>\n",
       "      <td>0.0</td>\n",
       "      <td>0.0</td>\n",
       "      <td>0.0</td>\n",
       "      <td>0.171383</td>\n",
       "    </tr>\n",
       "    <tr>\n",
       "      <th>4</th>\n",
       "      <td>0.0</td>\n",
       "      <td>0.0</td>\n",
       "      <td>0.0</td>\n",
       "      <td>0.0</td>\n",
       "      <td>0.0</td>\n",
       "      <td>0.0</td>\n",
       "      <td>0.0</td>\n",
       "      <td>0.0</td>\n",
       "      <td>0.0</td>\n",
       "      <td>0.0</td>\n",
       "      <td>...</td>\n",
       "      <td>0.0</td>\n",
       "      <td>0.0</td>\n",
       "      <td>0.0</td>\n",
       "      <td>0.0</td>\n",
       "      <td>0.0</td>\n",
       "      <td>0.0</td>\n",
       "      <td>0.0</td>\n",
       "      <td>0.0</td>\n",
       "      <td>0.0</td>\n",
       "      <td>0.000000</td>\n",
       "    </tr>\n",
       "  </tbody>\n",
       "</table>\n",
       "<p>5 rows × 1479 columns</p>\n",
       "</div>"
      ],
      "text/plain": [
       "   abattement  abord  aboutir  absence  absolument  accepter  accessible  \\\n",
       "0         0.0    0.0      0.0      0.0         0.0       0.0         0.0   \n",
       "1         0.0    0.0      0.0      0.0         0.0       0.0         0.0   \n",
       "2         0.0    0.0      0.0      0.0         0.0       0.0         0.0   \n",
       "3         0.0    0.0      0.0      0.0         0.0       0.0         0.0   \n",
       "4         0.0    0.0      0.0      0.0         0.0       0.0         0.0   \n",
       "\n",
       "   accident  accompagner  accord  ...  étudiant  évaluer  éventuel  \\\n",
       "0       0.0          0.0     0.0  ...       0.0      0.0       0.0   \n",
       "1       0.0          0.0     0.0  ...       0.0      0.0       0.0   \n",
       "2       0.0          0.0     0.0  ...       0.0      0.0       0.0   \n",
       "3       0.0          0.0     0.0  ...       0.0      0.0       0.0   \n",
       "4       0.0          0.0     0.0  ...       0.0      0.0       0.0   \n",
       "\n",
       "   éventuellement  évidemment  évident  éviter  évoluer  évolution  événement  \n",
       "0             0.0         0.0      0.0     0.0      0.0        0.0   0.000000  \n",
       "1             0.0         0.0      0.0     0.0      0.0        0.0   0.000000  \n",
       "2             0.0         0.0      0.0     0.0      0.0        0.0   0.000000  \n",
       "3             0.0         0.0      0.0     0.0      0.0        0.0   0.171383  \n",
       "4             0.0         0.0      0.0     0.0      0.0        0.0   0.000000  \n",
       "\n",
       "[5 rows x 1479 columns]"
      ]
     },
     "execution_count": 36,
     "metadata": {},
     "output_type": "execute_result"
    }
   ],
   "source": [
    "# Pour illustrer la vectorisation de TF-IDF\n",
    "pd.DataFrame(X_tfidf.toarray(), columns = vectorizer.get_feature_names_out()).head()"
   ]
  },
  {
   "cell_type": "code",
   "execution_count": 37,
   "metadata": {},
   "outputs": [
    {
     "name": "stdout",
     "output_type": "stream",
     "text": [
      "On constate que le dictionnaire du TF-IDF est de 1479 features\n"
     ]
    }
   ],
   "source": [
    "print(f\"On constate que le dictionnaire du TF-IDF est de {X_tfidf.shape[1]} features\")"
   ]
  },
  {
   "cell_type": "code",
   "execution_count": 38,
   "metadata": {},
   "outputs": [],
   "source": [
    "# Similaire en tout point à 3.1 TF-IDF, on pourrait fonctionnariser cette partie\n",
    "\n",
    "X_train, X_test, y_train, y_test = train_test_split(X_tfidf, \n",
    "                                                    y, \n",
    "                                                    test_size = my_size,\n",
    "                                                    stratify = y,\n",
    "                                                    random_state = my_random)\n",
    "\n",
    "clf_tfidf = LinearSVC(max_iter = 10000)\n",
    "# D'autres algos de ML possibles, par exemple si XGBoost\n",
    "# clf_tfidf = xgb.XGBClassifier()\n",
    "\n",
    "clf_tfidf.fit(X_train, y_train)\n",
    "\n",
    "y_pred = clf_tfidf.predict(X_test)\n",
    "report = classification_report(y_test, y_pred)"
   ]
  },
  {
   "cell_type": "code",
   "execution_count": 39,
   "metadata": {},
   "outputs": [
    {
     "name": "stdout",
     "output_type": "stream",
     "text": [
      "              precision    recall  f1-score   support\n",
      "\n",
      "       False       0.84      0.88      0.86        60\n",
      "        True       0.91      0.88      0.89        80\n",
      "\n",
      "    accuracy                           0.88       140\n",
      "   macro avg       0.88      0.88      0.88       140\n",
      "weighted avg       0.88      0.88      0.88       140\n",
      "\n"
     ]
    }
   ],
   "source": [
    "print(report)"
   ]
  },
  {
   "cell_type": "markdown",
   "metadata": {},
   "source": [
    "Le F1-score (de la cible) est de 84%, ce qui peut sembler à priori satisfaisant pour un entraînement sur petit échantillon."
   ]
  },
  {
   "cell_type": "code",
   "execution_count": 40,
   "metadata": {},
   "outputs": [],
   "source": [
    "# Code \"à la main\" pour créer la visualisation des plus grandes contributions\n",
    "\n",
    "coef = clf_tfidf.coef_[0]\n",
    "vocabulary_positions = coef.argsort()\n",
    "vocabulary = vectorizer.get_feature_names_out()\n",
    "\n",
    "top_words = 10\n",
    "top_positive_coef = vocabulary_positions[-top_words:].tolist()\n",
    "top_negative_coef = vocabulary_positions[:top_words].tolist()\n",
    "\n",
    "df_contrib = pd.DataFrame([[vocabulary[c], coef[c]] for c in top_positive_coef + top_negative_coef], \n",
    "                          columns = [\"feature\", \"coefficient\"]).sort_values(\"coefficient\")"
   ]
  },
  {
   "cell_type": "code",
   "execution_count": 41,
   "metadata": {},
   "outputs": [
    {
     "data": {
      "image/png": "[encoded data removed]",
      "text/plain": [
       "<Figure size 640x480 with 1 Axes>"
      ]
     },
     "metadata": {},
     "output_type": "display_data"
    }
   ],
   "source": [
    "_ = df_contrib.set_index(\"feature\").plot.barh()"
   ]
  },
  {
   "cell_type": "markdown",
   "metadata": {},
   "source": [
    "**Que représentent les labels ?**\n",
    "\n",
    "L'analyse de ces mots puis des messages à l'oeil nu me laisse entendre que la distinction entre 1 et 8 n'est pas \"topic related\" mais plutôt sur la teneur de demande :\n",
    "- Les 1 sont de simples demandes d'aide, notamment pour effectuer un changement de taux, signaler un changement de situation (\"depuis\" indique souvent que la personne indique un changement de situation \"depuis\", de même pour \"suite\")\n",
    "- Les 8 sont à l'inverse des plaintes, la situation constatée par le contribuable ne correspond pas à l'attendu et il souhaite une explication (`Pourquoi ??`)"
   ]
  },
  {
   "cell_type": "code",
   "execution_count": 42,
   "metadata": {},
   "outputs": [],
   "source": [
    "# En utilisant XGBoost cela aurait permit aussi une visualisation intégrée\n",
    "\n",
    "# _ = xgb.plot_importance(classifier, \n",
    "#                         importance_type = \"gain\",\n",
    "#                         max_num_features = 25,\n",
    "#                         show_values = False)"
   ]
  },
  {
   "cell_type": "code",
   "execution_count": 43,
   "metadata": {},
   "outputs": [],
   "source": [
    "with open('predictor/vectorizer_tfidf.pkl', 'wb') as file:\n",
    "    pickle.dump(vectorizer, file)"
   ]
  },
  {
   "cell_type": "markdown",
   "metadata": {},
   "source": [
    "## 3.2 Doc2Vec : Word2Vec issu de Spacy + moyenne arithmétique"
   ]
  },
  {
   "cell_type": "markdown",
   "metadata": {},
   "source": [
    "Les messages adressés par les contribuables sont rédigés dans une langue orale/écrite courante et **ne présente pas de termes techniques/jargon spécifique**. Un embedding entraîné sur un corpus usuel sera donc suffisant pour ne pas entraîner de problème de dictionnaire. J'ai retenu par simplicité d'utilisation celui présent sur Spacy. Par économie de taille on pourrait retenir le \"medium\", dans l'espoir d'avoir les meilleurs résultats possibles j'importe cependant le \"large\"."
   ]
  },
  {
   "cell_type": "code",
   "execution_count": 44,
   "metadata": {},
   "outputs": [],
   "source": [
    "nlp = spacy.load(\"fr_core_news_lg\")"
   ]
  },
  {
   "cell_type": "code",
   "execution_count": 45,
   "metadata": {},
   "outputs": [],
   "source": [
    "df_spacy = df.copy()"
   ]
  },
  {
   "cell_type": "code",
   "execution_count": 46,
   "metadata": {},
   "outputs": [],
   "source": [
    "df_spacy[\"embedding_avg\"] = df_spacy[\"message_clean\"].apply(lambda x: nlp(x).vector) "
   ]
  },
  {
   "cell_type": "markdown",
   "metadata": {},
   "source": [
    "L'attribut `doc.vector` donne l'embedding par moyenne arithmétique des mots de la phrase.\n",
    "\n",
    "Cette stratégie n'est pas très pertinente pour de longs messages, en effet en attribuant des poids identiques à tous les mots - dont certains fréquents non retirés par les stopwords - on \"brouille\" le message, il n'y a pas de raisons pour que la moyenne reflète parfaitement la teneur moyenne du message. Une amélioration, non implémentée, serait déjà de repondérer le message par les poids de la matrice TF-IDF."
   ]
  },
  {
   "cell_type": "code",
   "execution_count": 47,
   "metadata": {},
   "outputs": [],
   "source": [
    "# Reconstruction de la matrice X pas forcément très élégante mais fonctionne et pas très longue à tourner\n",
    "X_spacy = pd.DataFrame()\n",
    "for elem in df_spacy[\"embedding_avg\"]:\n",
    "    temp = (pd.DataFrame((elem)).T)\n",
    "    X_spacy = pd.concat([X_spacy, temp])"
   ]
  },
  {
   "cell_type": "code",
   "execution_count": 48,
   "metadata": {},
   "outputs": [
    {
     "name": "stdout",
     "output_type": "stream",
     "text": [
      "On passe des 1479 features du TF-IDF à 300 features ici\n"
     ]
    }
   ],
   "source": [
    "print(f\"On passe des {X_tfidf.shape[1]} features du TF-IDF à {X_spacy.shape[1]} features ici\")"
   ]
  },
  {
   "cell_type": "code",
   "execution_count": 49,
   "metadata": {},
   "outputs": [],
   "source": [
    "X_train, X_test, y_train, y_test = train_test_split(X_spacy, \n",
    "                                                    y, \n",
    "                                                    test_size = my_size,\n",
    "                                                    stratify = y,\n",
    "                                                    random_state = my_random)\n",
    "\n",
    "clf_spacy = LinearSVC()\n",
    "clf_spacy.fit(X_train, y_train)\n",
    "\n",
    "y_pred = clf_spacy.predict(X_test)\n",
    "report = classification_report(y_test, y_pred)"
   ]
  },
  {
   "cell_type": "code",
   "execution_count": 50,
   "metadata": {},
   "outputs": [
    {
     "name": "stdout",
     "output_type": "stream",
     "text": [
      "              precision    recall  f1-score   support\n",
      "\n",
      "       False       0.83      0.80      0.81        60\n",
      "        True       0.85      0.88      0.86        80\n",
      "\n",
      "    accuracy                           0.84       140\n",
      "   macro avg       0.84      0.84      0.84       140\n",
      "weighted avg       0.84      0.84      0.84       140\n",
      "\n"
     ]
    }
   ],
   "source": [
    "print(report)"
   ]
  },
  {
   "cell_type": "markdown",
   "metadata": {},
   "source": [
    "Comme attendu les performances sont bien plus décevantes, on moyennise brutallement une longue phrase en prenant la moyenne arithmétique des embedding de chaque mot, il est très peu probablement que la moyenne non pondérée donne quelque chose de pertinent au niveau de la phrase entière. On peut s'attendre à une amélioration du score avec repondération TF-IDF, mais peut-être toujours moins performante que le TF-IDF."
   ]
  },
  {
   "cell_type": "markdown",
   "metadata": {},
   "source": [
    "## 3.3 Transformers : Camembert (RoBERTa)"
   ]
  },
  {
   "cell_type": "markdown",
   "metadata": {},
   "source": [
    "Nous allons avoir recours à des transfomers et plus particulièrement ceux présentant uniquement la partie encodage de façon à avoir une réprenstation dense de la phrase. Il s'agit donc des modèles BERT (au lieu des GPT génératifs). Classiquement j'ai recours à HuggingFace pour utiliser facilement des modèles pré-entraînés, et notamment ici [CamemBERT](https://huggingface.co/almanach/camembert-base)\n",
    "\n",
    "On aurait également pu passer par Spacy qui dispose d'une façon simple d'implémenter un transformers français https://spacy.io/models/fr#fr_dep_news_trf"
   ]
  },
  {
   "cell_type": "markdown",
   "metadata": {},
   "source": [
    "J'utilise ici une méthode simple plutôt qu'un fine-tuning PyTorch (https://camembert-model.fr/posts/tutorial_part2/) : je garde figé tous les paramètres du modèles pour n'utiliser que les embeddings en sortie de Camembert comme input d'une simple classification ML."
   ]
  },
  {
   "cell_type": "code",
   "execution_count": 51,
   "metadata": {},
   "outputs": [
    {
     "name": "stderr",
     "output_type": "stream",
     "text": [
      "c:\\Users\\TitouanBlaize\\AppData\\Local\\Programs\\Python\\Python312\\Lib\\site-packages\\huggingface_hub\\file_download.py:1132: FutureWarning: `resume_download` is deprecated and will be removed in version 1.0.0. Downloads always resume when possible. If you want to force a new download, use `force_download=True`.\n",
      "  warnings.warn(\n"
     ]
    }
   ],
   "source": [
    "# You can replace \"camembert-base\" with any other model from the table, e.g. \"camembert/camembert-large\".\n",
    "tokenizer = CamembertTokenizer.from_pretrained(\"camembert/camembert-base-wikipedia-4gb\")\n",
    "camembert = CamembertModel.from_pretrained(\"camembert/camembert-base-wikipedia-4gb\")"
   ]
  },
  {
   "cell_type": "code",
   "execution_count": 52,
   "metadata": {},
   "outputs": [],
   "source": [
    "to_run = False\n",
    "\n",
    "if to_run :\n",
    "    # Méthode à la main pour récupérer les embeddings de la dernière couche de CamemBERT et constituer la dataframe X utile à l'algo de ML\n",
    "    n_truncated = 0\n",
    "    df_camembert  = pd.DataFrame()\n",
    "    for index, row in df.iterrows():\n",
    "        message_raw = row[\"message\"]\n",
    "\n",
    "        tokenized_sentence = tokenizer.tokenize(message_raw)\n",
    "\n",
    "        encoded_sentence = tokenizer.encode(tokenized_sentence)\n",
    "\n",
    "        # Par simplicité je coupe au maximum du \"maximum context size\" de CamemBERT\n",
    "        # Possibilité d'itérer sur des batch de 512 jusqu'à avoir tout le texte puis de moyenniser\n",
    "        if (len(encoded_sentence) > 512) :\n",
    "            encoded_sentence = encoded_sentence[:511]\n",
    "            n_truncated += 1 # Pour savoir le nombre de phrases tronquées\n",
    "            \n",
    "        encoded_sentence = torch.tensor(encoded_sentence).unsqueeze(0)\n",
    "\n",
    "        results_camembert = camembert(encoded_sentence)\n",
    "\n",
    "        # last_hidden_state.detach() permet d'aller chercher la dernière couche de CamemBERT\n",
    "        # [:,0,:] pour prendre le premier token [CLS] qui contient toute l'information de la phrase\n",
    "        new_row = pd.DataFrame(results_camembert.last_hidden_state.detach()[:,0,:])\n",
    "        df_camembert = pd.concat([df_camembert, new_row], ignore_index = True)\n",
    "\n",
    "    # Sauvegarde pour gagner du temps\n",
    "    df_camembert.to_csv(\"data/data_camembert.csv\", sep = \";\", index = False)\n",
    "else :\n",
    "    df_camembert = pd.read_csv(\"data/data_camembert.csv\", sep = \";\")"
   ]
  },
  {
   "cell_type": "code",
   "execution_count": 53,
   "metadata": {},
   "outputs": [],
   "source": [
    "X_bert = df_camembert\n",
    "\n",
    "X_train, X_test, y_train, y_test = train_test_split(X_bert, \n",
    "                                                    y, \n",
    "                                                    test_size = my_size,\n",
    "                                                    stratify = y,\n",
    "                                                    random_state = my_random)\n",
    "\n",
    "clf_bert = LinearSVC()\n",
    "clf_bert.fit(X_train, y_train)\n",
    "\n",
    "y_pred = clf_bert.predict(X_test)\n",
    "report = classification_report(y_test, y_pred)"
   ]
  },
  {
   "cell_type": "code",
   "execution_count": 54,
   "metadata": {},
   "outputs": [
    {
     "name": "stdout",
     "output_type": "stream",
     "text": [
      "              precision    recall  f1-score   support\n",
      "\n",
      "       False       0.84      0.87      0.85        60\n",
      "        True       0.90      0.88      0.89        80\n",
      "\n",
      "    accuracy                           0.87       140\n",
      "   macro avg       0.87      0.87      0.87       140\n",
      "weighted avg       0.87      0.87      0.87       140\n",
      "\n"
     ]
    }
   ],
   "source": [
    "print(report)"
   ]
  },
  {
   "cell_type": "markdown",
   "metadata": {},
   "source": [
    "# 4. Optimisation par RandomizedSearchCV"
   ]
  },
  {
   "cell_type": "markdown",
   "metadata": {},
   "source": [
    "Je ne pousse pas l'optimisation des hyperparamètres à son maximum mais illustre juste l'intérêt de cette technique pour améliorer les résultats, prévenir l'overfitting, donner une meilleure estimation des métriques que sur un simple split. Réalisons cela sur le TF-IDF qui semblait avoir les meilleures performances."
   ]
  },
  {
   "cell_type": "code",
   "execution_count": 55,
   "metadata": {},
   "outputs": [
    {
     "name": "stdout",
     "output_type": "stream",
     "text": [
      "Best parameters found:  {'C': 0.1171593739230706, 'loss': 'squared_hinge'}\n",
      "Best cross-validation score: 0.88\n"
     ]
    }
   ],
   "source": [
    "param_dist = {\n",
    "    'C': loguniform(1e-1, 1e1),  # Regularization parameter (log-uniform distribution)\n",
    "    'loss': ['hinge', 'squared_hinge']  # Loss function\n",
    "}\n",
    "\n",
    "random_search = RandomizedSearchCV(clf_tfidf, \n",
    "                                   param_distributions = param_dist, \n",
    "                                   n_iter = 30, \n",
    "                                   cv = 5, \n",
    "                                   scoring = 'f1', \n",
    "                                   random_state = my_random)\n",
    "\n",
    "\n",
    "random_search.fit(X_tfidf, y)\n",
    "\n",
    "print(\"Best parameters found: \", random_search.best_params_)\n",
    "print(\"Best cross-validation score: {:.2f}\".format(random_search.best_score_))\n",
    "\n",
    "best_model = random_search.best_estimator_"
   ]
  },
  {
   "cell_type": "markdown",
   "metadata": {},
   "source": [
    "Grâce à l'optimization nous avons robustifié la valeur du F1 score sur échantillon test (85% pour label 1) et augmenté ce dernier par rapport au split avec seed = 42."
   ]
  },
  {
   "cell_type": "code",
   "execution_count": 56,
   "metadata": {},
   "outputs": [
    {
     "data": {
      "text/plain": [
       "['predictor/tfidf_label8.joblib']"
      ]
     },
     "execution_count": 56,
     "metadata": {},
     "output_type": "execute_result"
    }
   ],
   "source": [
    "import joblib\n",
    "joblib_file = \"predictor/tfidf_label8.joblib\"\n",
    "joblib.dump(best_model, joblib_file)"
   ]
  }
 ],
 "metadata": {
  "kernelspec": {
   "display_name": "Python 3",
   "language": "python",
   "name": "python3"
  },
  "language_info": {
   "codemirror_mode": {
    "name": "ipython",
    "version": 3
   },
   "file_extension": ".py",
   "mimetype": "text/x-python",
   "name": "python",
   "nbconvert_exporter": "python",
   "pygments_lexer": "ipython3",
   "version": "3.12.3"
  }
 },
 "nbformat": 4,
 "nbformat_minor": 2
}
