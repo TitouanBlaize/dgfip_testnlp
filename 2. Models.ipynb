{
 "cells": [
  {
   "cell_type": "markdown",
   "metadata": {},
   "source": [
    "# **Modèles pour classification textuelle**"
   ]
  },
  {
   "cell_type": "markdown",
   "metadata": {},
   "source": [
    "Une fois les données nettoyées dans le notebook `1. Preprocessing` précédent, nous allons maintenant utiliser plusieurs modèles pour tenter de classifier les messages."
   ]
  },
  {
   "cell_type": "markdown",
   "metadata": {},
   "source": [
    "# 1. Avant propos et méthodologie"
   ]
  },
  {
   "cell_type": "markdown",
   "metadata": {},
   "source": [
    "## 1.1 Premiers éléments"
   ]
  },
  {
   "cell_type": "markdown",
   "metadata": {},
   "source": [
    "Nous allons faire de la classification textuelle avec _overlapping_ de labels. Il s'agit donc d'une _multilabel classification_ par opposition au _multiclass classification_ dans le cas où un seul label était possible par message. Pour traiter cela nous allons tout simplement séparer l'analyse en deux _binary classification_ simples : prédiction d'être `label 1` puis prédiction d'être `label 8`. La prédiction d'être `label 1:8` sera alors la simple combinaison des deux exercices précédents.\n",
    "\n",
    "\n",
    "Par ailleurs les labels sont équilibrés, à priori pas besoin d'utiliser les méthodes spécifiques au _imbalanced dataset_ (cf. `0. EDA.ipynb`)"
   ]
  },
  {
   "cell_type": "markdown",
   "metadata": {},
   "source": [
    "## 1.2 Vectorisation des textes nettoyés"
   ]
  },
  {
   "cell_type": "markdown",
   "metadata": {},
   "source": [
    "Afin de réaliser l'exercice en un temps raisonnable je me suis limité à prendre les modèles \"sur étagère\" largement connus et utilisés par la communauté plutôt que des algorithmes plus de niche/_state of the art_."
   ]
  },
  {
   "cell_type": "markdown",
   "metadata": {},
   "source": [
    "Le premier choix concerne l'implémentation d'un modèle transformant le texte nettoyé en un vecteur analysable par un algorithme de classification dans un second temps. Ces `vectorizers` retenus sont par ordre de complexité :\n",
    "- (Non implémenté) One-Hot Vectorize/Bag of Words\n",
    "- TF-IDF : une matrice _document term_ de même taille que précédemment mais mieux pondérée, amélioration immédiate de la méthode précédente\n",
    "- Embedding statique _a la_ word2vec : moyenne arithmétique des word2vec pour faire un Doc2Vec\n",
    "- (Non implémenté) Combinaison des deux méthodes pour faire du doc/sent2vec où les pondérations par mot sont données par le TF-IDF\n",
    "- Embedding \"dynamique\" en ayant recours à un transformers (partie encoder), ici camembert (BERT français)"
   ]
  },
  {
   "cell_type": "markdown",
   "metadata": {},
   "source": [
    "## 1.3 Algorithmes de ML pour classification supervisée"
   ]
  },
  {
   "cell_type": "markdown",
   "metadata": {},
   "source": [
    "Une fois la représentation vectorielle plus ou moins dense retenue, il faut recourir un à algorithme de classification classique du machine learning. Pour en citer quelques-uns :\n",
    "- Régression logistique simple ou pénalisée (Ridge, Lasso)\n",
    "- SVM, particulièrement efficace pour des tâches de classification textuelle dans la mesure où elle prend efficacement en compte les matrices _sparses_ de TF-IDF\n",
    "- XGBoost : \"roi des compétitions Kaggle\"\n",
    "\n",
    "Ces modèles peuvent chacun faire l'objet d'une _hyperparameter tuning_ pour améliorer les performances."
   ]
  },
  {
   "cell_type": "markdown",
   "metadata": {},
   "source": [
    "## 1.4 Métriques de succès"
   ]
  },
  {
   "cell_type": "markdown",
   "metadata": {},
   "source": [
    "Puisque l'échantillon est quasi équilibré entre 1 et 8 (même lorsque qu'on attribue `1:8` à l'une ou l'autre des classes) l'accuracy toute simple pourrait être suffisante, alors que cette métrique est très peu utilisée usuellement (absolument pas pertinente dès lors que l'échantillon est déséquilibré, ce qui est généralement le cas en pratique - en tout cas dans mon expérience passée)."
   ]
  },
  {
   "cell_type": "markdown",
   "metadata": {},
   "source": [
    "# 2. Packages usuels et importation"
   ]
  },
  {
   "cell_type": "code",
   "execution_count": 1,
   "metadata": {},
   "outputs": [],
   "source": [
    "# Pour faciliter la mise à jour des fonctions écrites dans func_custom sans avoir à redémarrer le kernel\n",
    "%load_ext autoreload\n",
    "%autoreload 2"
   ]
  },
  {
   "cell_type": "code",
   "execution_count": 2,
   "metadata": {},
   "outputs": [
    {
     "name": "stderr",
     "output_type": "stream",
     "text": [
      "c:\\Users\\TitouanBlaize\\AppData\\Local\\Programs\\Python\\Python312\\Lib\\site-packages\\transformers\\utils\\generic.py:441: UserWarning: torch.utils._pytree._register_pytree_node is deprecated. Please use torch.utils._pytree.register_pytree_node instead.\n",
      "  _torch_pytree._register_pytree_node(\n",
      "c:\\Users\\TitouanBlaize\\AppData\\Local\\Programs\\Python\\Python312\\Lib\\site-packages\\transformers\\utils\\generic.py:309: UserWarning: torch.utils._pytree._register_pytree_node is deprecated. Please use torch.utils._pytree.register_pytree_node instead.\n",
      "  _torch_pytree._register_pytree_node(\n"
     ]
    }
   ],
   "source": [
    "# Packages classiques\n",
    "import pandas as pd\n",
    "import torch\n",
    "\n",
    "# NLP\n",
    "import spacy\n",
    "from transformers import CamembertModel, CamembertTokenizer\n",
    "\n",
    "\n",
    "# Machine Learning\n",
    "import xgboost as xgb\n",
    "from sklearn.feature_extraction.text import TfidfVectorizer\n",
    "from sklearn.linear_model import LogisticRegression\n",
    "from sklearn.svm import LinearSVC\n",
    "from sklearn.model_selection import train_test_split\n",
    "from sklearn.metrics import accuracy_score, classification_report"
   ]
  },
  {
   "cell_type": "code",
   "execution_count": 3,
   "metadata": {},
   "outputs": [],
   "source": [
    "df = pd.read_csv(\"data/data_clean_lemmetized.csv\", sep = \";\")"
   ]
  },
  {
   "cell_type": "code",
   "execution_count": 4,
   "metadata": {},
   "outputs": [],
   "source": [
    "# Préparation des labels pour transformer la classification multilabel en deux classifications binaires classiques\n",
    "df[\"label_1\"] = df[\"label\"].apply(lambda x : \"1\" in x)\n",
    "df[\"label_8\"] = df[\"label\"].apply(lambda x : \"8\" in x)\n",
    "y_1 = df[\"label_1\"]\n",
    "y_8 = df[\"label_8\"]"
   ]
  },
  {
   "cell_type": "code",
   "execution_count": 5,
   "metadata": {},
   "outputs": [],
   "source": [
    "# Illustration avec pour le moment classification des 1\n",
    "y = y_1\n",
    "\n",
    "my_random = 29570\n",
    "my_size = 0.2"
   ]
  },
  {
   "cell_type": "markdown",
   "metadata": {},
   "source": [
    "# 3. Comparaison des modèles de vectorisation"
   ]
  },
  {
   "cell_type": "markdown",
   "metadata": {},
   "source": [
    "## 3.1 TF_IDF"
   ]
  },
  {
   "cell_type": "markdown",
   "metadata": {},
   "source": [
    "L'approche \"Bag of Word\" (un one hot encoder des mots du vocabulaire) n'est pas montrée car le TF_IDF est une amélioration immédiation où au lieu d'avoir des simples 1 dans la matrice, les poids de chaque mots dans la phrase sont pondérés par un critère d'importance. La taille de la matrice reste cependnat la même."
   ]
  },
  {
   "cell_type": "code",
   "execution_count": 6,
   "metadata": {},
   "outputs": [],
   "source": [
    "messages = df[\"message_clean\"]\n",
    "\n",
    "# Si on voulait comparer les résultats en prenant des messages non nettoyés\n",
    "# messages = df[\"message\"].apply(lambda x: unicodedata.normalize(\"NFKC\", x))"
   ]
  },
  {
   "cell_type": "code",
   "execution_count": 7,
   "metadata": {},
   "outputs": [],
   "source": [
    "vectorizer = TfidfVectorizer(min_df = 2)\n",
    "X = vectorizer.fit_transform(messages)"
   ]
  },
  {
   "cell_type": "code",
   "execution_count": 8,
   "metadata": {},
   "outputs": [
    {
     "data": {
      "text/html": [
       "<div>\n",
       "<style scoped>\n",
       "    .dataframe tbody tr th:only-of-type {\n",
       "        vertical-align: middle;\n",
       "    }\n",
       "\n",
       "    .dataframe tbody tr th {\n",
       "        vertical-align: top;\n",
       "    }\n",
       "\n",
       "    .dataframe thead th {\n",
       "        text-align: right;\n",
       "    }\n",
       "</style>\n",
       "<table border=\"1\" class=\"dataframe\">\n",
       "  <thead>\n",
       "    <tr style=\"text-align: right;\">\n",
       "      <th></th>\n",
       "      <th>abattement</th>\n",
       "      <th>abord</th>\n",
       "      <th>aboutir</th>\n",
       "      <th>absence</th>\n",
       "      <th>absolument</th>\n",
       "      <th>accepter</th>\n",
       "      <th>accessible</th>\n",
       "      <th>accident</th>\n",
       "      <th>accompagner</th>\n",
       "      <th>accord</th>\n",
       "      <th>...</th>\n",
       "      <th>étudiant</th>\n",
       "      <th>évaluer</th>\n",
       "      <th>éventuel</th>\n",
       "      <th>éventuellement</th>\n",
       "      <th>évidemment</th>\n",
       "      <th>évident</th>\n",
       "      <th>éviter</th>\n",
       "      <th>évoluer</th>\n",
       "      <th>évolution</th>\n",
       "      <th>événement</th>\n",
       "    </tr>\n",
       "  </thead>\n",
       "  <tbody>\n",
       "    <tr>\n",
       "      <th>0</th>\n",
       "      <td>0.0</td>\n",
       "      <td>0.0</td>\n",
       "      <td>0.0</td>\n",
       "      <td>0.0</td>\n",
       "      <td>0.0</td>\n",
       "      <td>0.0</td>\n",
       "      <td>0.0</td>\n",
       "      <td>0.0</td>\n",
       "      <td>0.0</td>\n",
       "      <td>0.0</td>\n",
       "      <td>...</td>\n",
       "      <td>0.0</td>\n",
       "      <td>0.0</td>\n",
       "      <td>0.0</td>\n",
       "      <td>0.0</td>\n",
       "      <td>0.0</td>\n",
       "      <td>0.0</td>\n",
       "      <td>0.0</td>\n",
       "      <td>0.0</td>\n",
       "      <td>0.0</td>\n",
       "      <td>0.000000</td>\n",
       "    </tr>\n",
       "    <tr>\n",
       "      <th>1</th>\n",
       "      <td>0.0</td>\n",
       "      <td>0.0</td>\n",
       "      <td>0.0</td>\n",
       "      <td>0.0</td>\n",
       "      <td>0.0</td>\n",
       "      <td>0.0</td>\n",
       "      <td>0.0</td>\n",
       "      <td>0.0</td>\n",
       "      <td>0.0</td>\n",
       "      <td>0.0</td>\n",
       "      <td>...</td>\n",
       "      <td>0.0</td>\n",
       "      <td>0.0</td>\n",
       "      <td>0.0</td>\n",
       "      <td>0.0</td>\n",
       "      <td>0.0</td>\n",
       "      <td>0.0</td>\n",
       "      <td>0.0</td>\n",
       "      <td>0.0</td>\n",
       "      <td>0.0</td>\n",
       "      <td>0.000000</td>\n",
       "    </tr>\n",
       "    <tr>\n",
       "      <th>2</th>\n",
       "      <td>0.0</td>\n",
       "      <td>0.0</td>\n",
       "      <td>0.0</td>\n",
       "      <td>0.0</td>\n",
       "      <td>0.0</td>\n",
       "      <td>0.0</td>\n",
       "      <td>0.0</td>\n",
       "      <td>0.0</td>\n",
       "      <td>0.0</td>\n",
       "      <td>0.0</td>\n",
       "      <td>...</td>\n",
       "      <td>0.0</td>\n",
       "      <td>0.0</td>\n",
       "      <td>0.0</td>\n",
       "      <td>0.0</td>\n",
       "      <td>0.0</td>\n",
       "      <td>0.0</td>\n",
       "      <td>0.0</td>\n",
       "      <td>0.0</td>\n",
       "      <td>0.0</td>\n",
       "      <td>0.000000</td>\n",
       "    </tr>\n",
       "    <tr>\n",
       "      <th>3</th>\n",
       "      <td>0.0</td>\n",
       "      <td>0.0</td>\n",
       "      <td>0.0</td>\n",
       "      <td>0.0</td>\n",
       "      <td>0.0</td>\n",
       "      <td>0.0</td>\n",
       "      <td>0.0</td>\n",
       "      <td>0.0</td>\n",
       "      <td>0.0</td>\n",
       "      <td>0.0</td>\n",
       "      <td>...</td>\n",
       "      <td>0.0</td>\n",
       "      <td>0.0</td>\n",
       "      <td>0.0</td>\n",
       "      <td>0.0</td>\n",
       "      <td>0.0</td>\n",
       "      <td>0.0</td>\n",
       "      <td>0.0</td>\n",
       "      <td>0.0</td>\n",
       "      <td>0.0</td>\n",
       "      <td>0.171383</td>\n",
       "    </tr>\n",
       "    <tr>\n",
       "      <th>4</th>\n",
       "      <td>0.0</td>\n",
       "      <td>0.0</td>\n",
       "      <td>0.0</td>\n",
       "      <td>0.0</td>\n",
       "      <td>0.0</td>\n",
       "      <td>0.0</td>\n",
       "      <td>0.0</td>\n",
       "      <td>0.0</td>\n",
       "      <td>0.0</td>\n",
       "      <td>0.0</td>\n",
       "      <td>...</td>\n",
       "      <td>0.0</td>\n",
       "      <td>0.0</td>\n",
       "      <td>0.0</td>\n",
       "      <td>0.0</td>\n",
       "      <td>0.0</td>\n",
       "      <td>0.0</td>\n",
       "      <td>0.0</td>\n",
       "      <td>0.0</td>\n",
       "      <td>0.0</td>\n",
       "      <td>0.000000</td>\n",
       "    </tr>\n",
       "  </tbody>\n",
       "</table>\n",
       "<p>5 rows × 1479 columns</p>\n",
       "</div>"
      ],
      "text/plain": [
       "   abattement  abord  aboutir  absence  absolument  accepter  accessible  \\\n",
       "0         0.0    0.0      0.0      0.0         0.0       0.0         0.0   \n",
       "1         0.0    0.0      0.0      0.0         0.0       0.0         0.0   \n",
       "2         0.0    0.0      0.0      0.0         0.0       0.0         0.0   \n",
       "3         0.0    0.0      0.0      0.0         0.0       0.0         0.0   \n",
       "4         0.0    0.0      0.0      0.0         0.0       0.0         0.0   \n",
       "\n",
       "   accident  accompagner  accord  ...  étudiant  évaluer  éventuel  \\\n",
       "0       0.0          0.0     0.0  ...       0.0      0.0       0.0   \n",
       "1       0.0          0.0     0.0  ...       0.0      0.0       0.0   \n",
       "2       0.0          0.0     0.0  ...       0.0      0.0       0.0   \n",
       "3       0.0          0.0     0.0  ...       0.0      0.0       0.0   \n",
       "4       0.0          0.0     0.0  ...       0.0      0.0       0.0   \n",
       "\n",
       "   éventuellement  évidemment  évident  éviter  évoluer  évolution  événement  \n",
       "0             0.0         0.0      0.0     0.0      0.0        0.0   0.000000  \n",
       "1             0.0         0.0      0.0     0.0      0.0        0.0   0.000000  \n",
       "2             0.0         0.0      0.0     0.0      0.0        0.0   0.000000  \n",
       "3             0.0         0.0      0.0     0.0      0.0        0.0   0.171383  \n",
       "4             0.0         0.0      0.0     0.0      0.0        0.0   0.000000  \n",
       "\n",
       "[5 rows x 1479 columns]"
      ]
     },
     "execution_count": 8,
     "metadata": {},
     "output_type": "execute_result"
    }
   ],
   "source": [
    "# Pour illustrer la vectorisation de TF-IDF\n",
    "pd.DataFrame(X.toarray(), columns = vectorizer.get_feature_names_out()).head()"
   ]
  },
  {
   "cell_type": "code",
   "execution_count": 9,
   "metadata": {},
   "outputs": [
    {
     "name": "stdout",
     "output_type": "stream",
     "text": [
      "On constate que le dictionnaire du TF-IDF est de 1479 features\n"
     ]
    }
   ],
   "source": [
    "print(f\"On constate que le dictionnaire du TF-IDF est de {X.shape[1]} features\")"
   ]
  },
  {
   "cell_type": "code",
   "execution_count": 10,
   "metadata": {},
   "outputs": [],
   "source": [
    "X_train, X_test, y_train, y_test = train_test_split(X, \n",
    "                                                    y, \n",
    "                                                    test_size = my_size,\n",
    "                                                    random_state = my_random)\n",
    "\n",
    "classifier = LinearSVC()\n",
    "# D'autres algos de ML possibles, par exemple si XGBoost\n",
    "# classifier = xgb.XGBClassifier()\n",
    "\n",
    "classifier.fit(X_train, y_train)\n",
    "\n",
    "y_pred = classifier.predict(X_test)\n",
    "report = classification_report(y_test, y_pred)"
   ]
  },
  {
   "cell_type": "code",
   "execution_count": 11,
   "metadata": {},
   "outputs": [
    {
     "name": "stdout",
     "output_type": "stream",
     "text": [
      "              precision    recall  f1-score   support\n",
      "\n",
      "       False       0.82      0.69      0.75        68\n",
      "        True       0.75      0.86      0.80        72\n",
      "\n",
      "    accuracy                           0.78       140\n",
      "   macro avg       0.79      0.78      0.78       140\n",
      "weighted avg       0.78      0.78      0.78       140\n",
      "\n"
     ]
    }
   ],
   "source": [
    "print(report)"
   ]
  },
  {
   "cell_type": "markdown",
   "metadata": {},
   "source": [
    "Le F1-score (de la cible) est de 84%, ce qui peut sembler à priori satisfaisant pour un entraînement sur petit échantillon."
   ]
  },
  {
   "cell_type": "code",
   "execution_count": 12,
   "metadata": {},
   "outputs": [],
   "source": [
    "# Code \"à la main\" pour créer la visualisation des plus grandes contributions\n",
    "\n",
    "coef = classifier.coef_[0]\n",
    "vocabulary_positions = coef.argsort()\n",
    "vocabulary = vectorizer.get_feature_names_out()\n",
    "\n",
    "top_words = 10\n",
    "top_positive_coef = vocabulary_positions[-top_words:].tolist()\n",
    "top_negative_coef = vocabulary_positions[:top_words].tolist()\n",
    "\n",
    "df_contrib = pd.DataFrame([[vocabulary[c], coef[c]] for c in top_positive_coef + top_negative_coef], \n",
    "                          columns = [\"feature\", \"coefficient\"]).sort_values(\"coefficient\")"
   ]
  },
  {
   "cell_type": "code",
   "execution_count": 13,
   "metadata": {},
   "outputs": [
    {
     "data": {
      "image/png": "[encoded data removed]",
      "text/plain": [
       "<Figure size 640x480 with 1 Axes>"
      ]
     },
     "metadata": {},
     "output_type": "display_data"
    }
   ],
   "source": [
    "_ = df_contrib.set_index(\"feature\").plot.barh()"
   ]
  },
  {
   "cell_type": "markdown",
   "metadata": {},
   "source": [
    "**Que représentent les labels ?**\n",
    "\n",
    "Analyse des messages me laisse entendre que la distinction entre 1 et 8 n'est pas \"topic related\" mais plutôt sur la teneur de demande :\n",
    "- Les 1 sont de simples demandes d'aide, notamment sur l'interface, pour effectuer un changement de taux, signaler un changement de situation (\"depuis\" indique souvent que la personne indique un changement de situation \"depuis\", de même pour \"suite\")\n",
    "- Les 8 sont à l'inverse des plaintes, la situation constatée par le contribuable ne correspond pas à l'attendu et il souhaite une explication."
   ]
  },
  {
   "cell_type": "code",
   "execution_count": 14,
   "metadata": {},
   "outputs": [],
   "source": [
    "# En utilisant XGBoost cela aurait permit aussi une visualisation intégrée\n",
    "\n",
    "# _ = xgb.plot_importance(classifier, \n",
    "#                         importance_type = \"gain\",\n",
    "#                         max_num_features = 25,\n",
    "#                         show_values = False)"
   ]
  },
  {
   "cell_type": "markdown",
   "metadata": {},
   "source": [
    "## 3.2 Doc2Vec : Word2Vec issu de Spacy + moyenne arithmétique"
   ]
  },
  {
   "cell_type": "markdown",
   "metadata": {},
   "source": [
    "Les messages adressés par les contribuables sont rédigés dans une langue orale/écrite courante et **ne présente pas de termes techniques/jargon spécifique**. Un embedding entraîné sur un corpus usuel sera donc suffisant pour ne pas entraîner de problème de dictionnaire. J'ai retenu par simplicité d'utilisation celui présent sur Spacy. Par économie de taille On peut retenir le \"medium\", dans l'espoir d'avoir les meilleurs résultats possibles j'importe le \"large\"."
   ]
  },
  {
   "cell_type": "code",
   "execution_count": 15,
   "metadata": {},
   "outputs": [],
   "source": [
    "nlp = spacy.load(\"fr_core_news_lg\")"
   ]
  },
  {
   "cell_type": "code",
   "execution_count": 16,
   "metadata": {},
   "outputs": [],
   "source": [
    "df_spacy = df.copy()"
   ]
  },
  {
   "cell_type": "code",
   "execution_count": 17,
   "metadata": {},
   "outputs": [],
   "source": [
    "df_spacy[\"embedding_avg\"] = df_spacy[\"message_clean\"].apply(lambda x: nlp(x).vector) "
   ]
  },
  {
   "cell_type": "markdown",
   "metadata": {},
   "source": [
    "`doc.vector` donne l'embedding par moyenne arithmétique des mots de la phrase\n",
    "\n",
    "Stratégie pas très pertinente pour un long message, mais retenue par simplicité d'utilisation. On pourrait repondérer par les poids du TF-IDF. On anticipe cependant des résultats pas très satisfaisants pour des longues sequences."
   ]
  },
  {
   "cell_type": "code",
   "execution_count": 18,
   "metadata": {},
   "outputs": [],
   "source": [
    "df_embedding = pd.DataFrame()\n",
    "for elem in df_spacy[\"embedding_avg\"]:\n",
    "    temp = (pd.DataFrame((elem)).T)\n",
    "    df_embedding = pd.concat([df_embedding, temp])\n",
    "\n",
    "# df_embedding.to_csv(\"data_spacy.csv\", sep = \";\", index = False)"
   ]
  },
  {
   "cell_type": "code",
   "execution_count": 19,
   "metadata": {},
   "outputs": [
    {
     "name": "stdout",
     "output_type": "stream",
     "text": [
      "On passe des 1479 features du TF-IDF à 300 features ici\n"
     ]
    }
   ],
   "source": [
    "print(f\"On passe des {X.shape[1]} features du TF-IDF à {df_embedding.shape[1]} features ici\")"
   ]
  },
  {
   "cell_type": "code",
   "execution_count": 20,
   "metadata": {},
   "outputs": [],
   "source": [
    "X = df_embedding\n",
    "\n",
    "X_train, X_test, y_train, y_test = train_test_split(X, \n",
    "                                                    y, \n",
    "                                                    test_size = my_size,\n",
    "                                                    random_state = my_random)\n",
    "\n",
    "classifier = LinearSVC()\n",
    "classifier.fit(X_train, y_train)\n",
    "\n",
    "y_pred = classifier.predict(X_test)\n",
    "report = classification_report(y_test, y_pred)"
   ]
  },
  {
   "cell_type": "code",
   "execution_count": 21,
   "metadata": {},
   "outputs": [
    {
     "name": "stdout",
     "output_type": "stream",
     "text": [
      "              precision    recall  f1-score   support\n",
      "\n",
      "       False       0.75      0.72      0.74        68\n",
      "        True       0.75      0.78      0.76        72\n",
      "\n",
      "    accuracy                           0.75       140\n",
      "   macro avg       0.75      0.75      0.75       140\n",
      "weighted avg       0.75      0.75      0.75       140\n",
      "\n"
     ]
    }
   ],
   "source": [
    "print(report)"
   ]
  },
  {
   "cell_type": "markdown",
   "metadata": {},
   "source": [
    "Comme attendu les performances sont bien plus décevantes, on moyennise brutallement une longue phrase en prenant la moyenne arithmétique des embedding de chaque mot, il est très peu probablement que la moyenne non pondérée donne quelque chose de pertinent au niveau de la phrase entière."
   ]
  },
  {
   "cell_type": "markdown",
   "metadata": {},
   "source": [
    "## 3.3 Transformers : Camembert (RoBERTa)"
   ]
  },
  {
   "cell_type": "markdown",
   "metadata": {},
   "source": [
    "Nous allons avoir recours à des transfomers et plus particulièrement ceux présentant uniquement la partie encodage de façon à avoir une réprenstation dense de la phrase. Il s'agit donc des modèles BERT (au lieu des GPT génératifs). Classiquement j'ai recours à HuggingFace pour utiliser facilement des modèles pré-entraînés, et notamment ici [CamemBERT](https://huggingface.co/almanach/camembert-base)\n",
    "\n",
    "On aurait également pu passer par Spacy qui dispose d'une façon simple d'implémenter un transformers français https://spacy.io/models/fr#fr_dep_news_trf"
   ]
  },
  {
   "cell_type": "markdown",
   "metadata": {},
   "source": [
    "J'utilise ici une méthode simple plutôt qu'un fine-tuning PyTorch (https://camembert-model.fr/posts/tutorial_part2/) : je garde figé tous les paramètres du modèles pour n'utiliser que les embeddings en sortie de Camembert comme input d'une simple classification ML."
   ]
  },
  {
   "cell_type": "code",
   "execution_count": 22,
   "metadata": {},
   "outputs": [
    {
     "name": "stderr",
     "output_type": "stream",
     "text": [
      "c:\\Users\\TitouanBlaize\\AppData\\Local\\Programs\\Python\\Python312\\Lib\\site-packages\\huggingface_hub\\file_download.py:1132: FutureWarning: `resume_download` is deprecated and will be removed in version 1.0.0. Downloads always resume when possible. If you want to force a new download, use `force_download=True`.\n",
      "  warnings.warn(\n"
     ]
    }
   ],
   "source": [
    "# You can replace \"camembert-base\" with any other model from the table, e.g. \"camembert/camembert-large\".\n",
    "tokenizer = CamembertTokenizer.from_pretrained(\"camembert/camembert-base-wikipedia-4gb\")\n",
    "camembert = CamembertModel.from_pretrained(\"camembert/camembert-base-wikipedia-4gb\")"
   ]
  },
  {
   "cell_type": "code",
   "execution_count": 23,
   "metadata": {},
   "outputs": [],
   "source": [
    "to_run = False\n",
    "\n",
    "if to_run :\n",
    "    # Méthode à la main pour récupérer les embeddings de la dernière couche de CamemBERT et constituer la dataframe X utile à l'algo de ML\n",
    "\n",
    "    df_camembert  = pd.DataFrame()\n",
    "    for index, row in df.iterrows():\n",
    "        message_raw = row[\"message\"]\n",
    "\n",
    "        tokenized_sentence = tokenizer.tokenize(message_raw)\n",
    "\n",
    "        encoded_sentence = tokenizer.encode(tokenized_sentence)\n",
    "\n",
    "        # Par simplicité je coupe au maximum du \"maximum context size\" de CamemBERT\n",
    "        # Possibilité d'itérer sur des batch de 512 jusqu'à avoir tout le texte puis de moyenniser\n",
    "        if (len(encoded_sentence) > 512) :\n",
    "            encoded_sentence = encoded_sentence[:511]\n",
    "            \n",
    "        encoded_sentence = torch.tensor(encoded_sentence).unsqueeze(0)\n",
    "\n",
    "        results_camembert = camembert(encoded_sentence)\n",
    "\n",
    "        # last_hidden_state.detach() permet d'aller chercher la dernière couche de CamemBERT\n",
    "        # [:,0,:] pour prendre le premier token [CLS] qui contient toute l'information de la phrase\n",
    "        new_row = pd.DataFrame(results_camembert.last_hidden_state.detach()[:,0,:])\n",
    "        df_camembert = pd.concat([df_camembert, new_row], ignore_index = True)\n",
    "\n",
    "    # Sauvegarde pour gagner du temps\n",
    "    df_camembert.to_csv(\"data/data_camembert.csv\", sep = \";\", index = False)\n",
    "else :\n",
    "    df_camembert = pd.read_csv(\"data/data_camembert.csv\", sep = \";\")"
   ]
  },
  {
   "cell_type": "code",
   "execution_count": 24,
   "metadata": {},
   "outputs": [],
   "source": [
    "X = df_camembert\n",
    "\n",
    "X_train, X_test, y_train, y_test = train_test_split(X, \n",
    "                                                    y, \n",
    "                                                    test_size = my_size,\n",
    "                                                    random_state = my_random)\n",
    "\n",
    "classifier = LogisticRegression()\n",
    "classifier = LinearSVC()\n",
    "# classifier = xgb.XGBClassifier()\n",
    "classifier.fit(X_train, y_train)\n",
    "\n",
    "y_pred = classifier.predict(X_test)\n",
    "report = classification_report(y_test, y_pred)"
   ]
  },
  {
   "cell_type": "code",
   "execution_count": 25,
   "metadata": {},
   "outputs": [
    {
     "name": "stdout",
     "output_type": "stream",
     "text": [
      "              precision    recall  f1-score   support\n",
      "\n",
      "       False       0.81      0.75      0.78        68\n",
      "        True       0.78      0.83      0.81        72\n",
      "\n",
      "    accuracy                           0.79       140\n",
      "   macro avg       0.79      0.79      0.79       140\n",
      "weighted avg       0.79      0.79      0.79       140\n",
      "\n"
     ]
    }
   ],
   "source": [
    "print(report)"
   ]
  },
  {
   "cell_type": "markdown",
   "metadata": {},
   "source": [
    "# 4. Optimisation par RandomizedSearchCV"
   ]
  },
  {
   "cell_type": "code",
   "execution_count": null,
   "metadata": {},
   "outputs": [],
   "source": [
    "from sklearn.model_selection import GridSearchCV, RandomizedSearchCV\n",
    "from scipy.stats import uniform, loguniform\n",
    "\n",
    "param_dist = {\n",
    "    'C': loguniform(1e-3, 1e3),  # Regularization parameter (log-uniform distribution)\n",
    "    'loss': ['hinge', 'squared_hinge'],  # Loss function\n",
    "}\n",
    "\n",
    "random_search = RandomizedSearchCV(classifier, \n",
    "                                   param_distributions = param_dist, \n",
    "                                   n_iter = 50, \n",
    "                                   cv = 5, \n",
    "                                   scoring = 'f1', \n",
    "                                   random_state = my_random)\n",
    "\n",
    "\n",
    "random_search.fit(X, y)\n",
    "\n",
    "print(\"Best parameters found: \", random_search.best_params_)\n",
    "print(\"Best cross-validation score: {:.2f}\".format(random_search.best_score_))\n",
    "\n",
    "best_model = random_search.best_estimator_\n",
    "predictions = best_model.predict(X)\n",
    "\n",
    "# Best \"C\" is 0.8"
   ]
  },
  {
   "cell_type": "markdown",
   "metadata": {},
   "source": [
    "# 5. Combinaison des deux classifications binaires pour créer résultats"
   ]
  },
  {
   "cell_type": "markdown",
   "metadata": {},
   "source": []
  }
 ],
 "metadata": {
  "kernelspec": {
   "display_name": "Python 3",
   "language": "python",
   "name": "python3"
  },
  "language_info": {
   "codemirror_mode": {
    "name": "ipython",
    "version": 3
   },
   "file_extension": ".py",
   "mimetype": "text/x-python",
   "name": "python",
   "nbconvert_exporter": "python",
   "pygments_lexer": "ipython3",
   "version": "3.12.3"
  }
 },
 "nbformat": 4,
 "nbformat_minor": 2
}
