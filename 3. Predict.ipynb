{
 "cells": [
  {
   "cell_type": "markdown",
   "metadata": {},
   "source": [
    "# **Prédiction sur data_test en utilisant les éléments précédents**"
   ]
  },
  {
   "cell_type": "markdown",
   "metadata": {},
   "source": [
    "Je vais détailler ici toutes les étapes à la main, mais si l'on souhaitait mettre cela en production il faudrait commencer par ranger tous ces éléments dans une fonction."
   ]
  },
  {
   "cell_type": "code",
   "execution_count": 14,
   "metadata": {},
   "outputs": [],
   "source": [
    "import pandas as pd\n",
    "import numpy as np\n",
    "import pickle\n",
    "import joblib\n",
    "import func_custom as fc"
   ]
  },
  {
   "cell_type": "markdown",
   "metadata": {},
   "source": [
    "# 1. Importation des données et pièces du modèle"
   ]
  },
  {
   "cell_type": "code",
   "execution_count": 2,
   "metadata": {},
   "outputs": [],
   "source": [
    "# Données à prédire, je laisse \"Unnamed: 0\" car c'est probablement via ce numéro que vous ferez l'évaluation du classifieur\n",
    "df_test = pd.read_excel(\"data/data_test.xlsx\")"
   ]
  },
  {
   "cell_type": "code",
   "execution_count": 3,
   "metadata": {},
   "outputs": [],
   "source": [
    "# Stopwords issus de 1. Preprocessing\n",
    "with open('data/stopwords_complete.pkl', 'rb') as file:\n",
    "    stopwords_complete = pickle.load(file)\n",
    "\n",
    "# Vectorizer de TF_IDF\n",
    "with open('predictor/vectorizer_tfidf.pkl', 'rb') as file:\n",
    "    vectorizer = pickle.load(file)\n",
    "\n",
    "# Modèles TF_IDF avec hyperparamètres optimisés\n",
    "best_model_1 = joblib.load(\"predictor/tfidf_label1.joblib\")\n",
    "best_model_8 = joblib.load(\"predictor/tfidf_label8.joblib\")"
   ]
  },
  {
   "cell_type": "markdown",
   "metadata": {},
   "source": [
    "# 2. Application du preprocessing, vectoriser, predictor"
   ]
  },
  {
   "cell_type": "code",
   "execution_count": 4,
   "metadata": {},
   "outputs": [
    {
     "name": "stderr",
     "output_type": "stream",
     "text": [
      "c:\\Users\\TitouanBlaize\\AppData\\Local\\Programs\\Python\\Python312\\Lib\\site-packages\\transformers\\utils\\generic.py:441: UserWarning: torch.utils._pytree._register_pytree_node is deprecated. Please use torch.utils._pytree.register_pytree_node instead.\n",
      "  _torch_pytree._register_pytree_node(\n",
      "c:\\Users\\TitouanBlaize\\AppData\\Local\\Programs\\Python\\Python312\\Lib\\site-packages\\transformers\\utils\\generic.py:309: UserWarning: torch.utils._pytree._register_pytree_node is deprecated. Please use torch.utils._pytree.register_pytree_node instead.\n",
      "  _torch_pytree._register_pytree_node(\n"
     ]
    }
   ],
   "source": [
    "df_test[\"message_clean\"] = df_test[\"message\"].apply(lambda x : fc.preprocess_text(x, stopwords_complete))"
   ]
  },
  {
   "cell_type": "code",
   "execution_count": 5,
   "metadata": {},
   "outputs": [
    {
     "data": {
      "text/html": [
       "<div>\n",
       "<style scoped>\n",
       "    .dataframe tbody tr th:only-of-type {\n",
       "        vertical-align: middle;\n",
       "    }\n",
       "\n",
       "    .dataframe tbody tr th {\n",
       "        vertical-align: top;\n",
       "    }\n",
       "\n",
       "    .dataframe thead th {\n",
       "        text-align: right;\n",
       "    }\n",
       "</style>\n",
       "<table border=\"1\" class=\"dataframe\">\n",
       "  <thead>\n",
       "    <tr style=\"text-align: right;\">\n",
       "      <th></th>\n",
       "      <th>Unnamed: 0</th>\n",
       "      <th>message</th>\n",
       "      <th>message_clean</th>\n",
       "    </tr>\n",
       "  </thead>\n",
       "  <tbody>\n",
       "    <tr>\n",
       "      <th>0</th>\n",
       "      <td>0</td>\n",
       "      <td>Chère Madame, Cher Monsieur, Impossible de ch...</td>\n",
       "      <td>cher cher impossible changer situation familia...</td>\n",
       "    </tr>\n",
       "    <tr>\n",
       "      <th>1</th>\n",
       "      <td>1</td>\n",
       "      <td>Bonjour, mon taux pour le prélévement à la ...</td>\n",
       "      <td>taux prélévement source évaluer percevoir reta...</td>\n",
       "    </tr>\n",
       "    <tr>\n",
       "      <th>2</th>\n",
       "      <td>2</td>\n",
       "      <td>Bonsoir, Le 0000.0000.0000 ma première fille ...</td>\n",
       "      <td>bonsoir premier fille naître ensuite pacser so...</td>\n",
       "    </tr>\n",
       "    <tr>\n",
       "      <th>3</th>\n",
       "      <td>3</td>\n",
       "      <td>Bonjour, Lors de ma déclaration de changement...</td>\n",
       "      <td>lors déclaration changement situation pacs nai...</td>\n",
       "    </tr>\n",
       "    <tr>\n",
       "      <th>4</th>\n",
       "      <td>4</td>\n",
       "      <td>Bonjour concernant le prélèvement a la sourc...</td>\n",
       "      <td>concerner prélèvement source souhaiter départ ...</td>\n",
       "    </tr>\n",
       "    <tr>\n",
       "      <th>...</th>\n",
       "      <td>...</td>\n",
       "      <td>...</td>\n",
       "      <td>...</td>\n",
       "    </tr>\n",
       "    <tr>\n",
       "      <th>295</th>\n",
       "      <td>295</td>\n",
       "      <td>Bonjour, j'ai effectué ma déclaration dernie...</td>\n",
       "      <td>effectuer déclaration dernièrement aimer savoi...</td>\n",
       "    </tr>\n",
       "    <tr>\n",
       "      <th>296</th>\n",
       "      <td>296</td>\n",
       "      <td>Bonjour je voulais faire la mise à jour de ma...</td>\n",
       "      <td>vouloir mise jour situation fiscal déclarer pa...</td>\n",
       "    </tr>\n",
       "    <tr>\n",
       "      <th>297</th>\n",
       "      <td>297</td>\n",
       "      <td>Bonjour, j’ai déclaré ce jour la conclusion ...</td>\n",
       "      <td>déclarer jour conclusion pacs conjoint étonner...</td>\n",
       "    </tr>\n",
       "    <tr>\n",
       "      <th>298</th>\n",
       "      <td>298</td>\n",
       "      <td>Bonjour, Je viens de déclarer un changement d...</td>\n",
       "      <td>venir déclarer changement situation familial c...</td>\n",
       "    </tr>\n",
       "    <tr>\n",
       "      <th>299</th>\n",
       "      <td>299</td>\n",
       "      <td>En 0000 j'ai eu des revenus exceptionnels : un...</td>\n",
       "      <td>revenu exceptionnel arriéré xxxxx́e maladie ve...</td>\n",
       "    </tr>\n",
       "  </tbody>\n",
       "</table>\n",
       "<p>300 rows × 3 columns</p>\n",
       "</div>"
      ],
      "text/plain": [
       "     Unnamed: 0                                            message  \\\n",
       "0             0  Chère Madame, Cher Monsieur, Impossible de ch...   \n",
       "1             1  Bonjour, mon taux pour le prélévement à la ...   \n",
       "2             2  Bonsoir, Le 0000.0000.0000 ma première fille ...   \n",
       "3             3  Bonjour, Lors de ma déclaration de changement...   \n",
       "4             4  Bonjour concernant le prélèvement a la sourc...   \n",
       "..          ...                                                ...   \n",
       "295         295  Bonjour, j'ai effectué ma déclaration dernie...   \n",
       "296         296  Bonjour je voulais faire la mise à jour de ma...   \n",
       "297         297  Bonjour, j’ai déclaré ce jour la conclusion ...   \n",
       "298         298  Bonjour, Je viens de déclarer un changement d...   \n",
       "299         299  En 0000 j'ai eu des revenus exceptionnels : un...   \n",
       "\n",
       "                                         message_clean  \n",
       "0    cher cher impossible changer situation familia...  \n",
       "1    taux prélévement source évaluer percevoir reta...  \n",
       "2    bonsoir premier fille naître ensuite pacser so...  \n",
       "3    lors déclaration changement situation pacs nai...  \n",
       "4    concerner prélèvement source souhaiter départ ...  \n",
       "..                                                 ...  \n",
       "295  effectuer déclaration dernièrement aimer savoi...  \n",
       "296  vouloir mise jour situation fiscal déclarer pa...  \n",
       "297  déclarer jour conclusion pacs conjoint étonner...  \n",
       "298  venir déclarer changement situation familial c...  \n",
       "299  revenu exceptionnel arriéré xxxxx́e maladie ve...  \n",
       "\n",
       "[300 rows x 3 columns]"
      ]
     },
     "execution_count": 5,
     "metadata": {},
     "output_type": "execute_result"
    }
   ],
   "source": [
    "df_test"
   ]
  },
  {
   "cell_type": "code",
   "execution_count": 6,
   "metadata": {},
   "outputs": [],
   "source": [
    "# Surtout SURTOUT juste transform et pas fit_transform car on est en test, il ne faut pas de data leakage\n",
    "X_test = vectorizer.transform(df_test[\"message_clean\"])"
   ]
  },
  {
   "cell_type": "code",
   "execution_count": 7,
   "metadata": {},
   "outputs": [],
   "source": [
    "df_test[\"label_1\"] = best_model_1.predict(X_test)\n",
    "df_test[\"label_8\"] = best_model_8.predict(X_test)"
   ]
  },
  {
   "cell_type": "markdown",
   "metadata": {},
   "source": [
    "# 3. Label final et sauvegarde du résultat"
   ]
  },
  {
   "cell_type": "code",
   "execution_count": 8,
   "metadata": {},
   "outputs": [],
   "source": [
    "# Combinaison simple des deux lables prédits respectivement\n",
    "def multilabel(row):\n",
    "    if row[\"label_1\"]:\n",
    "        if row[\"label_8\"]:\n",
    "            return \"1:8\"\n",
    "        else:\n",
    "            return \"1\"\n",
    "    else:\n",
    "        return \"8\""
   ]
  },
  {
   "cell_type": "code",
   "execution_count": 9,
   "metadata": {},
   "outputs": [],
   "source": [
    "df_test[\"label\"] = df_test.apply(multilabel, axis = 1)"
   ]
  },
  {
   "cell_type": "code",
   "execution_count": 10,
   "metadata": {},
   "outputs": [
    {
     "data": {
      "text/plain": [
       "label\n",
       "8      137\n",
       "1      120\n",
       "1:8     43\n",
       "Name: count, dtype: int64"
      ]
     },
     "execution_count": 10,
     "metadata": {},
     "output_type": "execute_result"
    }
   ],
   "source": [
    "df_test[\"label\"].value_counts()"
   ]
  },
  {
   "cell_type": "code",
   "execution_count": 17,
   "metadata": {},
   "outputs": [
    {
     "name": "stdout",
     "output_type": "stream",
     "text": [
      "Si on suppose que l'échantillon test est similaire à celui de train (Label 8 : 309, Label 1 : 302, Label 1:8 : 89) on retombe sur des proportions similaires ce qui est rassurant. Par exemple le rapport 1:8/8 était de 28.8 contre 31.4 dans le test\n"
     ]
    }
   ],
   "source": [
    "print(f\"Si on suppose que l'échantillon test est similaire à celui de train (Label 8 : 309, Label 1 : 302, Label 1:8 : 89) on retombe sur des proportions similaires ce qui est rassurant. Par exemple le rapport 1:8/8 était de {np.round(100*89/309, 1)} contre {np.round(100*43/137, 1)} dans le test\")"
   ]
  },
  {
   "cell_type": "code",
   "execution_count": 11,
   "metadata": {},
   "outputs": [],
   "source": [
    "# Pour garder trace des étapes\n",
    "df_test.to_csv(\"df_test_predict_full.csv\", sep = \";\", index = False)\n",
    "\n",
    "# Pour vérification uniquement\n",
    "df_test[[\"message\", \"label\"]].to_csv(\"df_test_predict.csv\", sep = \";\", index = False)"
   ]
  },
  {
   "cell_type": "markdown",
   "metadata": {},
   "source": [
    "# 4. Pour aller plus loin"
   ]
  },
  {
   "cell_type": "markdown",
   "metadata": {},
   "source": [
    "Voici quelques idées supplémentaires à investiguer dans l'espoir d'améliorer les résultats :\n",
    "- Travail encore plus fin pour bien éliminer les stopwords et analyse approndie des erreurs de tokenizer/lemmetizer\n",
    "- Utilisation d'autres LLM que Camembert, notamment si corpus plus adaptés à \"l'oralité\" des messages + tokens en input plus longs que 512\n",
    "- Les deux classes de modèles les plus performantes semblent ici être le simple TF-IDF ou les LLM Français, on pourrait analyser les messages classer différement de l'un à l'autre pour mieux comprendre les différences\n",
    "- On pourrait même mettre en place un modèle ensembliste avec vote par modèle, et analyser plus finement lorsque les modèles votent différemment\n",
    "- Dans le même ordre idée, inspecter les erreurs le long de la distribution des scores (lorsque le score est très proche de 0 ou 1 est-ce qu'on se trompe encore ?) et composer différement les modèles alors"
   ]
  }
 ],
 "metadata": {
  "kernelspec": {
   "display_name": "Python 3",
   "language": "python",
   "name": "python3"
  },
  "language_info": {
   "codemirror_mode": {
    "name": "ipython",
    "version": 3
   },
   "file_extension": ".py",
   "mimetype": "text/x-python",
   "name": "python",
   "nbconvert_exporter": "python",
   "pygments_lexer": "ipython3",
   "version": "3.12.3"
  }
 },
 "nbformat": 4,
 "nbformat_minor": 2
}
